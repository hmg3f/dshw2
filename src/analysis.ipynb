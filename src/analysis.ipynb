{
 "cells": [
  {
   "cell_type": "markdown",
   "id": "9f8e2fdc-b979-47d8-8798-29c69131cb14",
   "metadata": {},
   "source": [
    "# Setup"
   ]
  },
  {
   "cell_type": "code",
   "execution_count": 1,
   "id": "d38607b8-f0de-4b0e-b941-260f674c0bbb",
   "metadata": {},
   "outputs": [
    {
     "name": "stderr",
     "output_type": "stream",
     "text": [
      "── \u001b[1mAttaching core tidyverse packages\u001b[22m ─────────────────────────────────────────────────────────────────────────────────────────────────────────────────────────────────────────────────────────────────────────────────────────────────────── tidyverse 2.0.0 ──\n",
      "\u001b[32m✔\u001b[39m \u001b[34mdplyr    \u001b[39m 1.1.4     \u001b[32m✔\u001b[39m \u001b[34mreadr    \u001b[39m 2.1.5\n",
      "\u001b[32m✔\u001b[39m \u001b[34mforcats  \u001b[39m 1.0.0     \u001b[32m✔\u001b[39m \u001b[34mstringr  \u001b[39m 1.5.1\n",
      "\u001b[32m✔\u001b[39m \u001b[34mggplot2  \u001b[39m 3.5.1     \u001b[32m✔\u001b[39m \u001b[34mtibble   \u001b[39m 3.2.1\n",
      "\u001b[32m✔\u001b[39m \u001b[34mlubridate\u001b[39m 1.9.3     \u001b[32m✔\u001b[39m \u001b[34mtidyr    \u001b[39m 1.3.1\n",
      "\u001b[32m✔\u001b[39m \u001b[34mpurrr    \u001b[39m 1.0.2     \n",
      "── \u001b[1mConflicts\u001b[22m ───────────────────────────────────────────────────────────────────────────────────────────────────────────────────────────────────────────────────────────────────────────────────────────────────────────────────────── tidyverse_conflicts() ──\n",
      "\u001b[31m✖\u001b[39m \u001b[34mdplyr\u001b[39m::\u001b[32mfilter()\u001b[39m masks \u001b[34mstats\u001b[39m::filter()\n",
      "\u001b[31m✖\u001b[39m \u001b[34mdplyr\u001b[39m::\u001b[32mlag()\u001b[39m    masks \u001b[34mstats\u001b[39m::lag()\n",
      "\u001b[36mℹ\u001b[39m Use the conflicted package (\u001b[3m\u001b[34m<http://conflicted.r-lib.org/>\u001b[39m\u001b[23m) to force all conflicts to become errors\n",
      "Loading required package: lattice\n",
      "\n",
      "\n",
      "Attaching package: ‘caret’\n",
      "\n",
      "\n",
      "The following object is masked from ‘package:purrr’:\n",
      "\n",
      "    lift\n",
      "\n",
      "\n"
     ]
    }
   ],
   "source": [
    "library(tidyverse)\n",
    "library(lubridate)\n",
    "library(caret)"
   ]
  },
  {
   "cell_type": "code",
   "execution_count": 2,
   "id": "212bdaae-5998-4e6e-9269-ef9c8ac76173",
   "metadata": {},
   "outputs": [
    {
     "data": {
      "text/html": [
       "<table class=\"dataframe\">\n",
       "<caption>A data.frame: 6 × 14</caption>\n",
       "<thead>\n",
       "\t<tr><th></th><th scope=col>X</th><th scope=col>Name</th><th scope=col>Location</th><th scope=col>Year</th><th scope=col>Kilometers_Driven</th><th scope=col>Fuel_Type</th><th scope=col>Transmission</th><th scope=col>Owner_Type</th><th scope=col>Mileage</th><th scope=col>Engine</th><th scope=col>Power</th><th scope=col>Seats</th><th scope=col>New_Price</th><th scope=col>Price</th></tr>\n",
       "\t<tr><th></th><th scope=col>&lt;int&gt;</th><th scope=col>&lt;chr&gt;</th><th scope=col>&lt;chr&gt;</th><th scope=col>&lt;int&gt;</th><th scope=col>&lt;int&gt;</th><th scope=col>&lt;chr&gt;</th><th scope=col>&lt;chr&gt;</th><th scope=col>&lt;chr&gt;</th><th scope=col>&lt;chr&gt;</th><th scope=col>&lt;chr&gt;</th><th scope=col>&lt;chr&gt;</th><th scope=col>&lt;dbl&gt;</th><th scope=col>&lt;chr&gt;</th><th scope=col>&lt;dbl&gt;</th></tr>\n",
       "</thead>\n",
       "<tbody>\n",
       "\t<tr><th scope=row>1</th><td>1</td><td>Hyundai Creta 1.6 CRDi SX Option </td><td>Pune      </td><td>2015</td><td>41000</td><td>Diesel</td><td>Manual   </td><td>First </td><td>19.67 kmpl</td><td>1582 CC</td><td>126.2 bhp</td><td>5</td><td>NA       </td><td>12.50</td></tr>\n",
       "\t<tr><th scope=row>2</th><td>2</td><td>Honda Jazz V                     </td><td>Chennai   </td><td>2011</td><td>46000</td><td>Petrol</td><td>Manual   </td><td>First </td><td>13 km/kg  </td><td>1199 CC</td><td>88.7 bhp </td><td>5</td><td>8.61 Lakh</td><td> 4.50</td></tr>\n",
       "\t<tr><th scope=row>3</th><td>3</td><td>Maruti Ertiga VDI                </td><td>Chennai   </td><td>2012</td><td>87000</td><td>Diesel</td><td>Manual   </td><td>First </td><td>20.77 kmpl</td><td>1248 CC</td><td>88.76 bhp</td><td>7</td><td>NA       </td><td> 6.00</td></tr>\n",
       "\t<tr><th scope=row>4</th><td>4</td><td>Audi A4 New 2.0 TDI Multitronic  </td><td>Coimbatore</td><td>2013</td><td>40670</td><td>Diesel</td><td>Automatic</td><td>Second</td><td>15.2 kmpl </td><td>1968 CC</td><td>140.8 bhp</td><td>5</td><td>NA       </td><td>17.74</td></tr>\n",
       "\t<tr><th scope=row>5</th><td>6</td><td>Nissan Micra Diesel XV           </td><td>Jaipur    </td><td>2013</td><td>86999</td><td>Diesel</td><td>Manual   </td><td>First </td><td>23.08 kmpl</td><td>1461 CC</td><td>63.1 bhp </td><td>5</td><td>NA       </td><td> 3.50</td></tr>\n",
       "\t<tr><th scope=row>6</th><td>7</td><td>Toyota Innova Crysta 2.8 GX AT 8S</td><td>Mumbai    </td><td>2016</td><td>36000</td><td>Diesel</td><td>Automatic</td><td>First </td><td>11.36 kmpl</td><td>2755 CC</td><td>171.5 bhp</td><td>8</td><td>21 Lakh  </td><td>17.50</td></tr>\n",
       "</tbody>\n",
       "</table>\n"
      ],
      "text/latex": [
       "A data.frame: 6 × 14\n",
       "\\begin{tabular}{r|llllllllllllll}\n",
       "  & X & Name & Location & Year & Kilometers\\_Driven & Fuel\\_Type & Transmission & Owner\\_Type & Mileage & Engine & Power & Seats & New\\_Price & Price\\\\\n",
       "  & <int> & <chr> & <chr> & <int> & <int> & <chr> & <chr> & <chr> & <chr> & <chr> & <chr> & <dbl> & <chr> & <dbl>\\\\\n",
       "\\hline\n",
       "\t1 & 1 & Hyundai Creta 1.6 CRDi SX Option  & Pune       & 2015 & 41000 & Diesel & Manual    & First  & 19.67 kmpl & 1582 CC & 126.2 bhp & 5 & NA        & 12.50\\\\\n",
       "\t2 & 2 & Honda Jazz V                      & Chennai    & 2011 & 46000 & Petrol & Manual    & First  & 13 km/kg   & 1199 CC & 88.7 bhp  & 5 & 8.61 Lakh &  4.50\\\\\n",
       "\t3 & 3 & Maruti Ertiga VDI                 & Chennai    & 2012 & 87000 & Diesel & Manual    & First  & 20.77 kmpl & 1248 CC & 88.76 bhp & 7 & NA        &  6.00\\\\\n",
       "\t4 & 4 & Audi A4 New 2.0 TDI Multitronic   & Coimbatore & 2013 & 40670 & Diesel & Automatic & Second & 15.2 kmpl  & 1968 CC & 140.8 bhp & 5 & NA        & 17.74\\\\\n",
       "\t5 & 6 & Nissan Micra Diesel XV            & Jaipur     & 2013 & 86999 & Diesel & Manual    & First  & 23.08 kmpl & 1461 CC & 63.1 bhp  & 5 & NA        &  3.50\\\\\n",
       "\t6 & 7 & Toyota Innova Crysta 2.8 GX AT 8S & Mumbai     & 2016 & 36000 & Diesel & Automatic & First  & 11.36 kmpl & 2755 CC & 171.5 bhp & 8 & 21 Lakh   & 17.50\\\\\n",
       "\\end{tabular}\n"
      ],
      "text/markdown": [
       "\n",
       "A data.frame: 6 × 14\n",
       "\n",
       "| <!--/--> | X &lt;int&gt; | Name &lt;chr&gt; | Location &lt;chr&gt; | Year &lt;int&gt; | Kilometers_Driven &lt;int&gt; | Fuel_Type &lt;chr&gt; | Transmission &lt;chr&gt; | Owner_Type &lt;chr&gt; | Mileage &lt;chr&gt; | Engine &lt;chr&gt; | Power &lt;chr&gt; | Seats &lt;dbl&gt; | New_Price &lt;chr&gt; | Price &lt;dbl&gt; |\n",
       "|---|---|---|---|---|---|---|---|---|---|---|---|---|---|---|\n",
       "| 1 | 1 | Hyundai Creta 1.6 CRDi SX Option  | Pune       | 2015 | 41000 | Diesel | Manual    | First  | 19.67 kmpl | 1582 CC | 126.2 bhp | 5 | NA        | 12.50 |\n",
       "| 2 | 2 | Honda Jazz V                      | Chennai    | 2011 | 46000 | Petrol | Manual    | First  | 13 km/kg   | 1199 CC | 88.7 bhp  | 5 | 8.61 Lakh |  4.50 |\n",
       "| 3 | 3 | Maruti Ertiga VDI                 | Chennai    | 2012 | 87000 | Diesel | Manual    | First  | 20.77 kmpl | 1248 CC | 88.76 bhp | 7 | NA        |  6.00 |\n",
       "| 4 | 4 | Audi A4 New 2.0 TDI Multitronic   | Coimbatore | 2013 | 40670 | Diesel | Automatic | Second | 15.2 kmpl  | 1968 CC | 140.8 bhp | 5 | NA        | 17.74 |\n",
       "| 5 | 6 | Nissan Micra Diesel XV            | Jaipur     | 2013 | 86999 | Diesel | Manual    | First  | 23.08 kmpl | 1461 CC | 63.1 bhp  | 5 | NA        |  3.50 |\n",
       "| 6 | 7 | Toyota Innova Crysta 2.8 GX AT 8S | Mumbai     | 2016 | 36000 | Diesel | Automatic | First  | 11.36 kmpl | 2755 CC | 171.5 bhp | 8 | 21 Lakh   | 17.50 |\n",
       "\n"
      ],
      "text/plain": [
       "  X Name                              Location   Year Kilometers_Driven\n",
       "1 1 Hyundai Creta 1.6 CRDi SX Option  Pune       2015 41000            \n",
       "2 2 Honda Jazz V                      Chennai    2011 46000            \n",
       "3 3 Maruti Ertiga VDI                 Chennai    2012 87000            \n",
       "4 4 Audi A4 New 2.0 TDI Multitronic   Coimbatore 2013 40670            \n",
       "5 6 Nissan Micra Diesel XV            Jaipur     2013 86999            \n",
       "6 7 Toyota Innova Crysta 2.8 GX AT 8S Mumbai     2016 36000            \n",
       "  Fuel_Type Transmission Owner_Type Mileage    Engine  Power     Seats\n",
       "1 Diesel    Manual       First      19.67 kmpl 1582 CC 126.2 bhp 5    \n",
       "2 Petrol    Manual       First      13 km/kg   1199 CC 88.7 bhp  5    \n",
       "3 Diesel    Manual       First      20.77 kmpl 1248 CC 88.76 bhp 7    \n",
       "4 Diesel    Automatic    Second     15.2 kmpl  1968 CC 140.8 bhp 5    \n",
       "5 Diesel    Manual       First      23.08 kmpl 1461 CC 63.1 bhp  5    \n",
       "6 Diesel    Automatic    First      11.36 kmpl 2755 CC 171.5 bhp 8    \n",
       "  New_Price Price\n",
       "1 NA        12.50\n",
       "2 8.61 Lakh  4.50\n",
       "3 NA         6.00\n",
       "4 NA        17.74\n",
       "5 NA         3.50\n",
       "6 21 Lakh   17.50"
      ]
     },
     "metadata": {},
     "output_type": "display_data"
    },
    {
     "data": {
      "text/html": [
       "<style>\n",
       ".list-inline {list-style: none; margin:0; padding: 0}\n",
       ".list-inline>li {display: inline-block}\n",
       ".list-inline>li:not(:last-child)::after {content: \"\\00b7\"; padding: 0 .5ex}\n",
       "</style>\n",
       "<ol class=list-inline><li>5847</li><li>14</li></ol>\n"
      ],
      "text/latex": [
       "\\begin{enumerate*}\n",
       "\\item 5847\n",
       "\\item 14\n",
       "\\end{enumerate*}\n"
      ],
      "text/markdown": [
       "1. 5847\n",
       "2. 14\n",
       "\n",
       "\n"
      ],
      "text/plain": [
       "[1] 5847   14"
      ]
     },
     "metadata": {},
     "output_type": "display_data"
    }
   ],
   "source": [
    "df <- read.csv('data_raw/train.csv', na.strings=c(\"\",\"NA\"))\n",
    "\n",
    "df %>% head\n",
    "dim(df)"
   ]
  },
  {
   "cell_type": "markdown",
   "id": "80de27e2-40d1-4ff2-9829-5099c2358104",
   "metadata": {},
   "source": [
    "## Handling Different Units (km/kg and km/L)\n",
    "\n",
    "There's only 5 rows which have a Mileage in some unit other than kmpl. Hence, we can safely remove the associated rows, as they likely do not measure the same thing."
   ]
  },
  {
   "cell_type": "code",
   "execution_count": 3,
   "id": "553c7366-7e22-4864-908b-2ea4e71c5875",
   "metadata": {},
   "outputs": [
    {
     "data": {
      "text/html": [
       "<table class=\"dataframe\">\n",
       "<caption>A data.frame: 5 × 14</caption>\n",
       "<thead>\n",
       "\t<tr><th></th><th scope=col>X</th><th scope=col>Name</th><th scope=col>Location</th><th scope=col>Year</th><th scope=col>Kilometers_Driven</th><th scope=col>Fuel_Type</th><th scope=col>Transmission</th><th scope=col>Owner_Type</th><th scope=col>Mileage</th><th scope=col>Engine</th><th scope=col>Power</th><th scope=col>Seats</th><th scope=col>New_Price</th><th scope=col>Price</th></tr>\n",
       "\t<tr><th></th><th scope=col>&lt;int&gt;</th><th scope=col>&lt;chr&gt;</th><th scope=col>&lt;chr&gt;</th><th scope=col>&lt;int&gt;</th><th scope=col>&lt;int&gt;</th><th scope=col>&lt;chr&gt;</th><th scope=col>&lt;chr&gt;</th><th scope=col>&lt;chr&gt;</th><th scope=col>&lt;chr&gt;</th><th scope=col>&lt;chr&gt;</th><th scope=col>&lt;chr&gt;</th><th scope=col>&lt;dbl&gt;</th><th scope=col>&lt;chr&gt;</th><th scope=col>&lt;dbl&gt;</th></tr>\n",
       "</thead>\n",
       "<tbody>\n",
       "\t<tr><th scope=row>2</th><td> 2</td><td>Honda Jazz V          </td><td>Chennai  </td><td>2011</td><td> 46000</td><td>Petrol</td><td>Manual   </td><td>First</td><td>13 km/kg   </td><td>1199 CC</td><td>88.7 bhp </td><td> 5</td><td>8.61 Lakh</td><td>4.50</td></tr>\n",
       "\t<tr><th scope=row>25</th><td>26</td><td>Nissan Micra Diesel XV</td><td>Hyderabad</td><td>2012</td><td> 54000</td><td>Diesel</td><td>Manual   </td><td>First</td><td>16.48 km/kg</td><td>1461 CC</td><td>63.1 bhp </td><td> 5</td><td>NA       </td><td>4.25</td></tr>\n",
       "\t<tr><th scope=row>57</th><td>58</td><td>Nissan X-Trail SLX AT </td><td>Hyderabad</td><td>2010</td><td>121812</td><td>Diesel</td><td>Automatic</td><td>First</td><td>9.49 km/kg </td><td>1995 CC</td><td>147.6 bhp</td><td> 5</td><td>NA       </td><td>7.75</td></tr>\n",
       "\t<tr><th scope=row>NA</th><td>NA</td><td>NA                    </td><td>NA       </td><td>  NA</td><td>    NA</td><td>NA    </td><td>NA       </td><td>NA   </td><td>NA         </td><td>NA     </td><td>NA       </td><td>NA</td><td>NA       </td><td>  NA</td></tr>\n",
       "\t<tr><th scope=row>NA.1</th><td>NA</td><td>NA                    </td><td>NA       </td><td>  NA</td><td>    NA</td><td>NA    </td><td>NA       </td><td>NA   </td><td>NA         </td><td>NA     </td><td>NA       </td><td>NA</td><td>NA       </td><td>  NA</td></tr>\n",
       "</tbody>\n",
       "</table>\n"
      ],
      "text/latex": [
       "A data.frame: 5 × 14\n",
       "\\begin{tabular}{r|llllllllllllll}\n",
       "  & X & Name & Location & Year & Kilometers\\_Driven & Fuel\\_Type & Transmission & Owner\\_Type & Mileage & Engine & Power & Seats & New\\_Price & Price\\\\\n",
       "  & <int> & <chr> & <chr> & <int> & <int> & <chr> & <chr> & <chr> & <chr> & <chr> & <chr> & <dbl> & <chr> & <dbl>\\\\\n",
       "\\hline\n",
       "\t2 &  2 & Honda Jazz V           & Chennai   & 2011 &  46000 & Petrol & Manual    & First & 13 km/kg    & 1199 CC & 88.7 bhp  &  5 & 8.61 Lakh & 4.50\\\\\n",
       "\t25 & 26 & Nissan Micra Diesel XV & Hyderabad & 2012 &  54000 & Diesel & Manual    & First & 16.48 km/kg & 1461 CC & 63.1 bhp  &  5 & NA        & 4.25\\\\\n",
       "\t57 & 58 & Nissan X-Trail SLX AT  & Hyderabad & 2010 & 121812 & Diesel & Automatic & First & 9.49 km/kg  & 1995 CC & 147.6 bhp &  5 & NA        & 7.75\\\\\n",
       "\tNA & NA & NA                     & NA        &   NA &     NA & NA     & NA        & NA    & NA          & NA      & NA        & NA & NA        &   NA\\\\\n",
       "\tNA.1 & NA & NA                     & NA        &   NA &     NA & NA     & NA        & NA    & NA          & NA      & NA        & NA & NA        &   NA\\\\\n",
       "\\end{tabular}\n"
      ],
      "text/markdown": [
       "\n",
       "A data.frame: 5 × 14\n",
       "\n",
       "| <!--/--> | X &lt;int&gt; | Name &lt;chr&gt; | Location &lt;chr&gt; | Year &lt;int&gt; | Kilometers_Driven &lt;int&gt; | Fuel_Type &lt;chr&gt; | Transmission &lt;chr&gt; | Owner_Type &lt;chr&gt; | Mileage &lt;chr&gt; | Engine &lt;chr&gt; | Power &lt;chr&gt; | Seats &lt;dbl&gt; | New_Price &lt;chr&gt; | Price &lt;dbl&gt; |\n",
       "|---|---|---|---|---|---|---|---|---|---|---|---|---|---|---|\n",
       "| 2 |  2 | Honda Jazz V           | Chennai   | 2011 |  46000 | Petrol | Manual    | First | 13 km/kg    | 1199 CC | 88.7 bhp  |  5 | 8.61 Lakh | 4.50 |\n",
       "| 25 | 26 | Nissan Micra Diesel XV | Hyderabad | 2012 |  54000 | Diesel | Manual    | First | 16.48 km/kg | 1461 CC | 63.1 bhp  |  5 | NA        | 4.25 |\n",
       "| 57 | 58 | Nissan X-Trail SLX AT  | Hyderabad | 2010 | 121812 | Diesel | Automatic | First | 9.49 km/kg  | 1995 CC | 147.6 bhp |  5 | NA        | 7.75 |\n",
       "| NA | NA | NA                     | NA        |   NA |     NA | NA     | NA        | NA    | NA          | NA      | NA        | NA | NA        |   NA |\n",
       "| NA.1 | NA | NA                     | NA        |   NA |     NA | NA     | NA        | NA    | NA          | NA      | NA        | NA | NA        |   NA |\n",
       "\n"
      ],
      "text/plain": [
       "     X  Name                   Location  Year Kilometers_Driven Fuel_Type\n",
       "2     2 Honda Jazz V           Chennai   2011  46000            Petrol   \n",
       "25   26 Nissan Micra Diesel XV Hyderabad 2012  54000            Diesel   \n",
       "57   58 Nissan X-Trail SLX AT  Hyderabad 2010 121812            Diesel   \n",
       "NA   NA NA                     NA          NA     NA            NA       \n",
       "NA.1 NA NA                     NA          NA     NA            NA       \n",
       "     Transmission Owner_Type Mileage     Engine  Power     Seats New_Price\n",
       "2    Manual       First      13 km/kg    1199 CC 88.7 bhp   5    8.61 Lakh\n",
       "25   Manual       First      16.48 km/kg 1461 CC 63.1 bhp   5    NA       \n",
       "57   Automatic    First      9.49 km/kg  1995 CC 147.6 bhp  5    NA       \n",
       "NA   NA           NA         NA          NA      NA        NA    NA       \n",
       "NA.1 NA           NA         NA          NA      NA        NA    NA       \n",
       "     Price\n",
       "2    4.50 \n",
       "25   4.25 \n",
       "57   7.75 \n",
       "NA     NA \n",
       "NA.1   NA "
      ]
     },
     "metadata": {},
     "output_type": "display_data"
    }
   ],
   "source": [
    "df[endsWith(df$Mileage, (\"km/kg\")),]\n",
    "\n",
    "# filter out all rows that end with km/kg\n",
    "df <- df %>% filter(!endsWith(df$Mileage, (\"km/kg\")))"
   ]
  },
  {
   "cell_type": "markdown",
   "id": "4e2f5d4a-e35b-4df3-9ae4-3fd80f543be8",
   "metadata": {},
   "source": [
    "# Part b: Removing Units\n",
    "\n",
    "Now we can remove units from Mileage, Engine, Power, and New_Price"
   ]
  },
  {
   "cell_type": "code",
   "execution_count": 4,
   "id": "107ad174-fae0-4e7d-9207-b707637ae731",
   "metadata": {},
   "outputs": [
    {
     "data": {
      "text/html": [
       "<table class=\"dataframe\">\n",
       "<caption>A data.frame: 6 × 14</caption>\n",
       "<thead>\n",
       "\t<tr><th></th><th scope=col>X</th><th scope=col>Name</th><th scope=col>Location</th><th scope=col>Year</th><th scope=col>Kilometers_Driven</th><th scope=col>Fuel_Type</th><th scope=col>Transmission</th><th scope=col>Owner_Type</th><th scope=col>Mileage</th><th scope=col>Engine</th><th scope=col>Power</th><th scope=col>Seats</th><th scope=col>New_Price</th><th scope=col>Price</th></tr>\n",
       "\t<tr><th></th><th scope=col>&lt;int&gt;</th><th scope=col>&lt;chr&gt;</th><th scope=col>&lt;chr&gt;</th><th scope=col>&lt;int&gt;</th><th scope=col>&lt;int&gt;</th><th scope=col>&lt;chr&gt;</th><th scope=col>&lt;chr&gt;</th><th scope=col>&lt;chr&gt;</th><th scope=col>&lt;dbl&gt;</th><th scope=col>&lt;dbl&gt;</th><th scope=col>&lt;dbl&gt;</th><th scope=col>&lt;dbl&gt;</th><th scope=col>&lt;dbl&gt;</th><th scope=col>&lt;dbl&gt;</th></tr>\n",
       "</thead>\n",
       "<tbody>\n",
       "\t<tr><th scope=row>1</th><td>1</td><td>Hyundai Creta 1.6 CRDi SX Option   </td><td>Pune      </td><td>2015</td><td>41000</td><td>Diesel</td><td>Manual   </td><td>First </td><td>19.67</td><td>1582</td><td>126.20</td><td>5</td><td>NA</td><td>12.50</td></tr>\n",
       "\t<tr><th scope=row>2</th><td>3</td><td>Maruti Ertiga VDI                  </td><td>Chennai   </td><td>2012</td><td>87000</td><td>Diesel</td><td>Manual   </td><td>First </td><td>20.77</td><td>1248</td><td> 88.76</td><td>7</td><td>NA</td><td> 6.00</td></tr>\n",
       "\t<tr><th scope=row>3</th><td>4</td><td>Audi A4 New 2.0 TDI Multitronic    </td><td>Coimbatore</td><td>2013</td><td>40670</td><td>Diesel</td><td>Automatic</td><td>Second</td><td>15.20</td><td>1968</td><td>140.80</td><td>5</td><td>NA</td><td>17.74</td></tr>\n",
       "\t<tr><th scope=row>4</th><td>6</td><td>Nissan Micra Diesel XV             </td><td>Jaipur    </td><td>2013</td><td>86999</td><td>Diesel</td><td>Manual   </td><td>First </td><td>23.08</td><td>1461</td><td> 63.10</td><td>5</td><td>NA</td><td> 3.50</td></tr>\n",
       "\t<tr><th scope=row>5</th><td>7</td><td>Toyota Innova Crysta 2.8 GX AT 8S  </td><td>Mumbai    </td><td>2016</td><td>36000</td><td>Diesel</td><td>Automatic</td><td>First </td><td>11.36</td><td>2755</td><td>171.50</td><td>8</td><td>21</td><td>17.50</td></tr>\n",
       "\t<tr><th scope=row>6</th><td>8</td><td>Volkswagen Vento Diesel Comfortline</td><td>Pune      </td><td>2013</td><td>64430</td><td>Diesel</td><td>Manual   </td><td>First </td><td>20.54</td><td>1598</td><td>103.60</td><td>5</td><td>NA</td><td> 5.20</td></tr>\n",
       "</tbody>\n",
       "</table>\n"
      ],
      "text/latex": [
       "A data.frame: 6 × 14\n",
       "\\begin{tabular}{r|llllllllllllll}\n",
       "  & X & Name & Location & Year & Kilometers\\_Driven & Fuel\\_Type & Transmission & Owner\\_Type & Mileage & Engine & Power & Seats & New\\_Price & Price\\\\\n",
       "  & <int> & <chr> & <chr> & <int> & <int> & <chr> & <chr> & <chr> & <dbl> & <dbl> & <dbl> & <dbl> & <dbl> & <dbl>\\\\\n",
       "\\hline\n",
       "\t1 & 1 & Hyundai Creta 1.6 CRDi SX Option    & Pune       & 2015 & 41000 & Diesel & Manual    & First  & 19.67 & 1582 & 126.20 & 5 & NA & 12.50\\\\\n",
       "\t2 & 3 & Maruti Ertiga VDI                   & Chennai    & 2012 & 87000 & Diesel & Manual    & First  & 20.77 & 1248 &  88.76 & 7 & NA &  6.00\\\\\n",
       "\t3 & 4 & Audi A4 New 2.0 TDI Multitronic     & Coimbatore & 2013 & 40670 & Diesel & Automatic & Second & 15.20 & 1968 & 140.80 & 5 & NA & 17.74\\\\\n",
       "\t4 & 6 & Nissan Micra Diesel XV              & Jaipur     & 2013 & 86999 & Diesel & Manual    & First  & 23.08 & 1461 &  63.10 & 5 & NA &  3.50\\\\\n",
       "\t5 & 7 & Toyota Innova Crysta 2.8 GX AT 8S   & Mumbai     & 2016 & 36000 & Diesel & Automatic & First  & 11.36 & 2755 & 171.50 & 8 & 21 & 17.50\\\\\n",
       "\t6 & 8 & Volkswagen Vento Diesel Comfortline & Pune       & 2013 & 64430 & Diesel & Manual    & First  & 20.54 & 1598 & 103.60 & 5 & NA &  5.20\\\\\n",
       "\\end{tabular}\n"
      ],
      "text/markdown": [
       "\n",
       "A data.frame: 6 × 14\n",
       "\n",
       "| <!--/--> | X &lt;int&gt; | Name &lt;chr&gt; | Location &lt;chr&gt; | Year &lt;int&gt; | Kilometers_Driven &lt;int&gt; | Fuel_Type &lt;chr&gt; | Transmission &lt;chr&gt; | Owner_Type &lt;chr&gt; | Mileage &lt;dbl&gt; | Engine &lt;dbl&gt; | Power &lt;dbl&gt; | Seats &lt;dbl&gt; | New_Price &lt;dbl&gt; | Price &lt;dbl&gt; |\n",
       "|---|---|---|---|---|---|---|---|---|---|---|---|---|---|---|\n",
       "| 1 | 1 | Hyundai Creta 1.6 CRDi SX Option    | Pune       | 2015 | 41000 | Diesel | Manual    | First  | 19.67 | 1582 | 126.20 | 5 | NA | 12.50 |\n",
       "| 2 | 3 | Maruti Ertiga VDI                   | Chennai    | 2012 | 87000 | Diesel | Manual    | First  | 20.77 | 1248 |  88.76 | 7 | NA |  6.00 |\n",
       "| 3 | 4 | Audi A4 New 2.0 TDI Multitronic     | Coimbatore | 2013 | 40670 | Diesel | Automatic | Second | 15.20 | 1968 | 140.80 | 5 | NA | 17.74 |\n",
       "| 4 | 6 | Nissan Micra Diesel XV              | Jaipur     | 2013 | 86999 | Diesel | Manual    | First  | 23.08 | 1461 |  63.10 | 5 | NA |  3.50 |\n",
       "| 5 | 7 | Toyota Innova Crysta 2.8 GX AT 8S   | Mumbai     | 2016 | 36000 | Diesel | Automatic | First  | 11.36 | 2755 | 171.50 | 8 | 21 | 17.50 |\n",
       "| 6 | 8 | Volkswagen Vento Diesel Comfortline | Pune       | 2013 | 64430 | Diesel | Manual    | First  | 20.54 | 1598 | 103.60 | 5 | NA |  5.20 |\n",
       "\n"
      ],
      "text/plain": [
       "  X Name                                Location   Year Kilometers_Driven\n",
       "1 1 Hyundai Creta 1.6 CRDi SX Option    Pune       2015 41000            \n",
       "2 3 Maruti Ertiga VDI                   Chennai    2012 87000            \n",
       "3 4 Audi A4 New 2.0 TDI Multitronic     Coimbatore 2013 40670            \n",
       "4 6 Nissan Micra Diesel XV              Jaipur     2013 86999            \n",
       "5 7 Toyota Innova Crysta 2.8 GX AT 8S   Mumbai     2016 36000            \n",
       "6 8 Volkswagen Vento Diesel Comfortline Pune       2013 64430            \n",
       "  Fuel_Type Transmission Owner_Type Mileage Engine Power  Seats New_Price Price\n",
       "1 Diesel    Manual       First      19.67   1582   126.20 5     NA        12.50\n",
       "2 Diesel    Manual       First      20.77   1248    88.76 7     NA         6.00\n",
       "3 Diesel    Automatic    Second     15.20   1968   140.80 5     NA        17.74\n",
       "4 Diesel    Manual       First      23.08   1461    63.10 5     NA         3.50\n",
       "5 Diesel    Automatic    First      11.36   2755   171.50 8     21        17.50\n",
       "6 Diesel    Manual       First      20.54   1598   103.60 5     NA         5.20"
      ]
     },
     "metadata": {},
     "output_type": "display_data"
    }
   ],
   "source": [
    "# mutate each column by replacing the unit with an empty string, then cast to numeric\n",
    "df <- df %>% mutate(Mileage = Mileage %>% gsub(\"kmpl\", \"\", .) %>% as.numeric)\n",
    "df <- df %>% mutate(Power = Power %>% gsub(\"bhp\", \"\", .) %>% as.numeric)\n",
    "df <- df %>% mutate(Engine = Engine %>% gsub(\"CC\", \"\", .) %>% as.numeric)\n",
    "df <- df %>% mutate(New_Price = New_Price %>% gsub(\"Lakh\", \"\", .) %>% as.numeric %>% suppressWarnings)\n",
    "\n",
    "df %>% head"
   ]
  },
  {
   "cell_type": "code",
   "execution_count": 5,
   "id": "b2f4d63a-3c7e-48ad-bf62-9e939b78186d",
   "metadata": {},
   "outputs": [],
   "source": [
    "write.csv(df, 'data_clean/00_removed_units.csv')"
   ]
  },
  {
   "cell_type": "markdown",
   "id": "9a15f0d3-06ae-4501-9c81-0d463ce7913a",
   "metadata": {},
   "source": [
    "# Part a: Missing Values\n",
    "\n",
    "First, we can find the amount of missing values in each column and the basic statistics of each. We can see that the only columns with missing values is Seats (38), Engine (36), Power (36), and New_Price (5,046)"
   ]
  },
  {
   "cell_type": "code",
   "execution_count": 6,
   "id": "776942d1-4b5b-456f-8b21-cd08b006f45d",
   "metadata": {},
   "outputs": [
    {
     "data": {
      "text/html": [
       "<style>\n",
       ".dl-inline {width: auto; margin:0; padding: 0}\n",
       ".dl-inline>dt, .dl-inline>dd {float: none; width: auto; display: inline-block}\n",
       ".dl-inline>dt::after {content: \":\\0020\"; padding-right: .5ex}\n",
       ".dl-inline>dt:not(:first-of-type) {padding-left: .5ex}\n",
       "</style><dl class=dl-inline><dt>X</dt><dd>0</dd><dt>Name</dt><dd>0</dd><dt>Location</dt><dd>0</dd><dt>Year</dt><dd>0</dd><dt>Kilometers_Driven</dt><dd>0</dd><dt>Fuel_Type</dt><dd>0</dd><dt>Transmission</dt><dd>0</dd><dt>Owner_Type</dt><dd>0</dd><dt>Mileage</dt><dd>0</dd><dt>Engine</dt><dd>36</dd><dt>Power</dt><dd>36</dd><dt>Seats</dt><dd>38</dd><dt>New_Price</dt><dd>5046</dd><dt>Price</dt><dd>0</dd></dl>\n"
      ],
      "text/latex": [
       "\\begin{description*}\n",
       "\\item[X] 0\n",
       "\\item[Name] 0\n",
       "\\item[Location] 0\n",
       "\\item[Year] 0\n",
       "\\item[Kilometers\\textbackslash{}\\_Driven] 0\n",
       "\\item[Fuel\\textbackslash{}\\_Type] 0\n",
       "\\item[Transmission] 0\n",
       "\\item[Owner\\textbackslash{}\\_Type] 0\n",
       "\\item[Mileage] 0\n",
       "\\item[Engine] 36\n",
       "\\item[Power] 36\n",
       "\\item[Seats] 38\n",
       "\\item[New\\textbackslash{}\\_Price] 5046\n",
       "\\item[Price] 0\n",
       "\\end{description*}\n"
      ],
      "text/markdown": [
       "X\n",
       ":   0Name\n",
       ":   0Location\n",
       ":   0Year\n",
       ":   0Kilometers_Driven\n",
       ":   0Fuel_Type\n",
       ":   0Transmission\n",
       ":   0Owner_Type\n",
       ":   0Mileage\n",
       ":   0Engine\n",
       ":   36Power\n",
       ":   36Seats\n",
       ":   38New_Price\n",
       ":   5046Price\n",
       ":   0\n",
       "\n"
      ],
      "text/plain": [
       "                X              Name          Location              Year \n",
       "                0                 0                 0                 0 \n",
       "Kilometers_Driven         Fuel_Type      Transmission        Owner_Type \n",
       "                0                 0                 0                 0 \n",
       "          Mileage            Engine             Power             Seats \n",
       "                0                36                36                38 \n",
       "        New_Price             Price \n",
       "             5046                 0 "
      ]
     },
     "metadata": {},
     "output_type": "display_data"
    },
    {
     "data": {
      "text/plain": [
       "       X            Name             Location              Year     \n",
       " Min.   :   1   Length:5842        Length:5842        Min.   :1998  \n",
       " 1st Qu.:1511   Class :character   Class :character   1st Qu.:2012  \n",
       " Median :3016   Mode  :character   Mode  :character   Median :2014  \n",
       " Mean   :3014                                         Mean   :2013  \n",
       " 3rd Qu.:4518                                         3rd Qu.:2016  \n",
       " Max.   :6018                                         Max.   :2019  \n",
       "                                                                    \n",
       " Kilometers_Driven  Fuel_Type         Transmission        Owner_Type       \n",
       " Min.   :    171   Length:5842        Length:5842        Length:5842       \n",
       " 1st Qu.:  33431   Class :character   Class :character   Class :character  \n",
       " Median :  52588   Mode  :character   Mode  :character   Mode  :character  \n",
       " Mean   :  58406                                                           \n",
       " 3rd Qu.:  72493                                                           \n",
       " Max.   :6500000                                                           \n",
       "                                                                           \n",
       "    Mileage          Engine         Power           Seats       \n",
       " Min.   : 0.00   Min.   : 624   Min.   : 34.2   Min.   : 2.000  \n",
       " 1st Qu.:15.26   1st Qu.:1198   1st Qu.: 78.0   1st Qu.: 5.000  \n",
       " Median :18.19   Median :1497   Median : 98.6   Median : 5.000  \n",
       " Mean   :18.16   Mean   :1632   Mean   :113.8   Mean   : 5.287  \n",
       " 3rd Qu.:21.10   3rd Qu.:1991   3rd Qu.:139.0   3rd Qu.: 5.000  \n",
       " Max.   :28.40   Max.   :5998   Max.   :560.0   Max.   :10.000  \n",
       "                 NA's   :36     NA's   :36      NA's   :38      \n",
       "   New_Price          Price        \n",
       " Min.   : 3.910   Min.   :  0.440  \n",
       " 1st Qu.: 8.018   1st Qu.:  3.550  \n",
       " Median :11.665   Median :  5.750  \n",
       " Mean   :20.917   Mean   :  9.655  \n",
       " 3rd Qu.:25.302   3rd Qu.: 10.250  \n",
       " Max.   :99.920   Max.   :160.000  \n",
       " NA's   :5046                      "
      ]
     },
     "metadata": {},
     "output_type": "display_data"
    }
   ],
   "source": [
    "# calculate the number of NA values for each feature\n",
    "apply(df, 2, function(x) sum(is.na(x)))\n",
    "\n",
    "summary(df)"
   ]
  },
  {
   "cell_type": "markdown",
   "id": "60206be6-4fb0-44cb-86b7-618aa452cde0",
   "metadata": {},
   "source": [
    "## Impute or Drop\n",
    "\n",
    "Starting off by looking at the New_Price column, it is obvious that our only option is to impute the data, as removing 5,046 rows from the dataset would be undesired. I'll impute this column by mean."
   ]
  },
  {
   "cell_type": "code",
   "execution_count": 7,
   "id": "60887614-0950-4283-a309-18bdb7a2ba1a",
   "metadata": {},
   "outputs": [
    {
     "data": {
      "text/plain": [
       "   Min. 1st Qu.  Median    Mean 3rd Qu.    Max. \n",
       "   3.91   20.92   20.92   20.92   20.92   99.92 "
      ]
     },
     "metadata": {},
     "output_type": "display_data"
    }
   ],
   "source": [
    "df$New_Price[is.na(df$New_Price)] <- mean(df$New_Price, na.rm = TRUE)\n",
    "\n",
    "summary(df$New_Price)"
   ]
  },
  {
   "cell_type": "markdown",
   "id": "ed3083a2-fea8-410e-a237-89060bd43e10",
   "metadata": {},
   "source": [
    "Next, let's take a look at the remaining 3 features. We can see that there is a large amount of overlap between the missing values for Engine, Power and Seats (in fact, there is 100% overlap between the NA rows). Additionally, we can see that the New_Price feature for each is not unique, rather, it is the value of the mean that was used in the previous impute step; hence, the values of the New_Price column do not provide any additional variance.\n",
    "\n",
    "Additionally, we can see that these rows make up only ~0.65% of the dataset."
   ]
  },
  {
   "cell_type": "code",
   "execution_count": 8,
   "id": "474738e9-14ea-462c-8ae5-676cf400157d",
   "metadata": {},
   "outputs": [
    {
     "data": {
      "text/html": [
       "<table class=\"dataframe\">\n",
       "<caption>A data.frame: 38 × 14</caption>\n",
       "<thead>\n",
       "\t<tr><th></th><th scope=col>X</th><th scope=col>Name</th><th scope=col>Location</th><th scope=col>Year</th><th scope=col>Kilometers_Driven</th><th scope=col>Fuel_Type</th><th scope=col>Transmission</th><th scope=col>Owner_Type</th><th scope=col>Mileage</th><th scope=col>Engine</th><th scope=col>Power</th><th scope=col>Seats</th><th scope=col>New_Price</th><th scope=col>Price</th></tr>\n",
       "\t<tr><th></th><th scope=col>&lt;int&gt;</th><th scope=col>&lt;chr&gt;</th><th scope=col>&lt;chr&gt;</th><th scope=col>&lt;int&gt;</th><th scope=col>&lt;int&gt;</th><th scope=col>&lt;chr&gt;</th><th scope=col>&lt;chr&gt;</th><th scope=col>&lt;chr&gt;</th><th scope=col>&lt;dbl&gt;</th><th scope=col>&lt;dbl&gt;</th><th scope=col>&lt;dbl&gt;</th><th scope=col>&lt;dbl&gt;</th><th scope=col>&lt;dbl&gt;</th><th scope=col>&lt;dbl&gt;</th></tr>\n",
       "</thead>\n",
       "<tbody>\n",
       "\t<tr><th scope=row>184</th><td> 194</td><td>Honda City 1.5 GXI                          </td><td>Ahmedabad </td><td>2007</td><td> 60006</td><td>Petrol</td><td>Manual   </td><td>First         </td><td> 0.00</td><td>  NA</td><td> NA</td><td>NA</td><td>20.91683</td><td> 2.95</td></tr>\n",
       "\t<tr><th scope=row>198</th><td> 208</td><td>Maruti Swift 1.3 VXi                        </td><td>Kolkata   </td><td>2010</td><td> 42001</td><td>Petrol</td><td>Manual   </td><td>First         </td><td>16.10</td><td>  NA</td><td> NA</td><td>NA</td><td>20.91683</td><td> 2.11</td></tr>\n",
       "\t<tr><th scope=row>218</th><td> 229</td><td>Ford Figo Diesel                            </td><td>Bangalore </td><td>2015</td><td> 70436</td><td>Diesel</td><td>Manual   </td><td>First         </td><td> 0.00</td><td>1498</td><td> 99</td><td>NA</td><td>20.91683</td><td> 3.60</td></tr>\n",
       "\t<tr><th scope=row>707</th><td> 733</td><td>Maruti Swift 1.3 VXi                        </td><td>Chennai   </td><td>2006</td><td> 97800</td><td>Petrol</td><td>Manual   </td><td>Third         </td><td>16.10</td><td>  NA</td><td> NA</td><td>NA</td><td>20.91683</td><td> 1.75</td></tr>\n",
       "\t<tr><th scope=row>721</th><td> 749</td><td>Land Rover Range Rover 3.0 D                </td><td>Mumbai    </td><td>2008</td><td> 55001</td><td>Diesel</td><td>Automatic</td><td>Second        </td><td> 0.00</td><td>  NA</td><td> NA</td><td>NA</td><td>20.91683</td><td>26.50</td></tr>\n",
       "\t<tr><th scope=row>1251</th><td>1294</td><td>Honda City 1.3 DX                           </td><td>Delhi     </td><td>2009</td><td> 55005</td><td>Petrol</td><td>Manual   </td><td>First         </td><td>12.80</td><td>  NA</td><td> NA</td><td>NA</td><td>20.91683</td><td> 3.20</td></tr>\n",
       "\t<tr><th scope=row>1282</th><td>1327</td><td>Maruti Swift 1.3 ZXI                        </td><td>Hyderabad </td><td>2015</td><td> 50295</td><td>Petrol</td><td>Manual   </td><td>First         </td><td>16.10</td><td>  NA</td><td> NA</td><td>NA</td><td>20.91683</td><td> 5.80</td></tr>\n",
       "\t<tr><th scope=row>1337</th><td>1385</td><td>Honda City 1.5 GXI                          </td><td>Pune      </td><td>2004</td><td>115000</td><td>Petrol</td><td>Manual   </td><td>Second        </td><td> 0.00</td><td>  NA</td><td> NA</td><td>NA</td><td>20.91683</td><td> 1.50</td></tr>\n",
       "\t<tr><th scope=row>1410</th><td>1460</td><td>Land Rover Range Rover Sport 2005 2012 Sport</td><td>Coimbatore</td><td>2008</td><td> 69078</td><td>Petrol</td><td>Manual   </td><td>First         </td><td> 0.00</td><td>  NA</td><td> NA</td><td>NA</td><td>20.91683</td><td>40.88</td></tr>\n",
       "\t<tr><th scope=row>1858</th><td>1917</td><td>Honda City 1.5 EXI                          </td><td>Jaipur    </td><td>2005</td><td> 88000</td><td>Petrol</td><td>Manual   </td><td>Second        </td><td>13.00</td><td>1493</td><td>100</td><td>NA</td><td>20.91683</td><td> 1.70</td></tr>\n",
       "\t<tr><th scope=row>2012</th><td>2074</td><td>Maruti Swift 1.3 LXI                        </td><td>Pune      </td><td>2011</td><td> 24255</td><td>Petrol</td><td>Manual   </td><td>First         </td><td>16.10</td><td>  NA</td><td> NA</td><td>NA</td><td>20.91683</td><td> 3.15</td></tr>\n",
       "\t<tr><th scope=row>2034</th><td>2096</td><td>Hyundai Santro LP zipPlus                   </td><td>Coimbatore</td><td>2004</td><td> 52146</td><td>Petrol</td><td>Manual   </td><td>First         </td><td> 0.00</td><td>  NA</td><td> NA</td><td>NA</td><td>20.91683</td><td> 1.93</td></tr>\n",
       "\t<tr><th scope=row>2197</th><td>2264</td><td>Toyota Etios Liva V                         </td><td>Pune      </td><td>2012</td><td> 24500</td><td>Petrol</td><td>Manual   </td><td>Second        </td><td>18.30</td><td>  NA</td><td> NA</td><td>NA</td><td>20.91683</td><td> 2.95</td></tr>\n",
       "\t<tr><th scope=row>2254</th><td>2325</td><td>Maruti Swift 1.3 VXI ABS                    </td><td>Pune      </td><td>2015</td><td> 67000</td><td>Petrol</td><td>Manual   </td><td>First         </td><td>16.10</td><td>  NA</td><td> NA</td><td>NA</td><td>20.91683</td><td> 4.70</td></tr>\n",
       "\t<tr><th scope=row>2264</th><td>2335</td><td>Maruti Swift 1.3 VXi                        </td><td>Mumbai    </td><td>2007</td><td> 55000</td><td>Petrol</td><td>Manual   </td><td>Second        </td><td>16.10</td><td>  NA</td><td> NA</td><td>NA</td><td>20.91683</td><td> 1.75</td></tr>\n",
       "\t<tr><th scope=row>2445</th><td>2530</td><td>BMW 5 Series 520d Sedan                     </td><td>Kochi     </td><td>2014</td><td> 64158</td><td>Diesel</td><td>Automatic</td><td>First         </td><td>18.48</td><td>  NA</td><td> NA</td><td>NA</td><td>20.91683</td><td>17.89</td></tr>\n",
       "\t<tr><th scope=row>2457</th><td>2542</td><td>Hyundai Santro GLS II - Euro II             </td><td>Bangalore </td><td>2011</td><td> 65000</td><td>Petrol</td><td>Manual   </td><td>Second        </td><td> 0.00</td><td>  NA</td><td> NA</td><td>NA</td><td>20.91683</td><td> 3.15</td></tr>\n",
       "\t<tr><th scope=row>2536</th><td>2623</td><td>BMW 5 Series 520d Sedan                     </td><td>Pune      </td><td>2012</td><td> 95000</td><td>Diesel</td><td>Automatic</td><td>Second        </td><td>18.48</td><td>  NA</td><td> NA</td><td>NA</td><td>20.91683</td><td>18.00</td></tr>\n",
       "\t<tr><th scope=row>2578</th><td>2668</td><td>Maruti Swift 1.3 VXi                        </td><td>Kolkata   </td><td>2014</td><td> 32986</td><td>Petrol</td><td>Manual   </td><td>First         </td><td>16.10</td><td>  NA</td><td> NA</td><td>NA</td><td>20.91683</td><td> 4.24</td></tr>\n",
       "\t<tr><th scope=row>2646</th><td>2737</td><td>Maruti Wagon R Vx                           </td><td>Jaipur    </td><td>2001</td><td>200000</td><td>Petrol</td><td>Manual   </td><td>First         </td><td>12.00</td><td>  NA</td><td> NA</td><td>NA</td><td>20.91683</td><td> 0.70</td></tr>\n",
       "\t<tr><th scope=row>2689</th><td>2780</td><td>Hyundai Santro GLS II - Euro II             </td><td>Pune      </td><td>2009</td><td>100000</td><td>Petrol</td><td>Manual   </td><td>First         </td><td> 0.00</td><td>  NA</td><td> NA</td><td>NA</td><td>20.91683</td><td> 1.60</td></tr>\n",
       "\t<tr><th scope=row>2751</th><td>2842</td><td>Hyundai Santro GLS II - Euro II             </td><td>Bangalore </td><td>2012</td><td> 43000</td><td>Petrol</td><td>Manual   </td><td>First         </td><td> 0.00</td><td>  NA</td><td> NA</td><td>NA</td><td>20.91683</td><td> 3.25</td></tr>\n",
       "\t<tr><th scope=row>3168</th><td>3272</td><td>BMW 5 Series 520d Sedan                     </td><td>Mumbai    </td><td>2008</td><td> 81000</td><td>Diesel</td><td>Automatic</td><td>Second        </td><td>18.48</td><td>  NA</td><td> NA</td><td>NA</td><td>20.91683</td><td>10.50</td></tr>\n",
       "\t<tr><th scope=row>3298</th><td>3404</td><td><span style=white-space:pre-wrap>Maruti Swift 1.3 VXi                        </span></td><td><span style=white-space:pre-wrap>Jaipur    </span></td><td>2006</td><td>125000</td><td>Petrol</td><td><span style=white-space:pre-wrap>Manual   </span></td><td>Fourth &amp; Above</td><td>16.10</td><td><span style=white-space:pre-wrap>  NA</span></td><td> NA</td><td>NA</td><td>20.91683</td><td> 2.35</td></tr>\n",
       "\t<tr><th scope=row>3410</th><td>3520</td><td>BMW 5 Series 520d Sedan                     </td><td>Delhi     </td><td>2012</td><td> 90000</td><td>Diesel</td><td>Automatic</td><td>First         </td><td>18.48</td><td>  NA</td><td> NA</td><td>NA</td><td>20.91683</td><td>14.50</td></tr>\n",
       "\t<tr><th scope=row>3412</th><td>3522</td><td>Hyundai Santro GLS II - Euro II             </td><td>Kochi     </td><td>2012</td><td> 66400</td><td>Petrol</td><td>Manual   </td><td>First         </td><td> 0.00</td><td>  NA</td><td> NA</td><td>NA</td><td>20.91683</td><td> 2.66</td></tr>\n",
       "\t<tr><th scope=row>3688</th><td>3810</td><td>Honda CR-V AT With Sun Roof                 </td><td>Kolkata   </td><td>2013</td><td> 27000</td><td>Petrol</td><td>Automatic</td><td>First         </td><td>14.00</td><td>  NA</td><td> NA</td><td>NA</td><td>20.91683</td><td>11.99</td></tr>\n",
       "\t<tr><th scope=row>3883</th><td>4011</td><td>Fiat Punto 1.3 Emotion                      </td><td>Pune      </td><td>2011</td><td> 45271</td><td>Diesel</td><td>Manual   </td><td>First         </td><td>20.30</td><td>  NA</td><td> NA</td><td>NA</td><td>20.91683</td><td> 2.60</td></tr>\n",
       "\t<tr><th scope=row>4020</th><td>4152</td><td>Land Rover Range Rover 3.0 D                </td><td>Mumbai    </td><td>2003</td><td> 75000</td><td>Diesel</td><td>Automatic</td><td>Second        </td><td> 0.00</td><td>  NA</td><td> NA</td><td>NA</td><td>20.91683</td><td>16.11</td></tr>\n",
       "\t<tr><th scope=row>4097</th><td>4229</td><td>Hyundai Santro Xing XG                      </td><td>Bangalore </td><td>2005</td><td> 79000</td><td>Petrol</td><td>Manual   </td><td>Second        </td><td>17.00</td><td>  NA</td><td> NA</td><td>NA</td><td>20.91683</td><td> 1.65</td></tr>\n",
       "\t<tr><th scope=row>4441</th><td>4577</td><td>BMW 5 Series 520d Sedan                     </td><td>Delhi     </td><td>2012</td><td> 72000</td><td>Diesel</td><td>Automatic</td><td>Third         </td><td>18.48</td><td>  NA</td><td> NA</td><td>NA</td><td>20.91683</td><td>13.85</td></tr>\n",
       "\t<tr><th scope=row>4467</th><td>4604</td><td>Honda Jazz Select Edition                   </td><td>Pune      </td><td>2011</td><td> 98000</td><td>Petrol</td><td>Manual   </td><td>First         </td><td>16.70</td><td>  NA</td><td> NA</td><td>NA</td><td>20.91683</td><td> 3.15</td></tr>\n",
       "\t<tr><th scope=row>4559</th><td>4697</td><td>Fiat Punto 1.2 Dynamic                      </td><td>Kochi     </td><td>2017</td><td> 17941</td><td>Petrol</td><td>Manual   </td><td>First         </td><td>15.70</td><td>  NA</td><td> NA</td><td>NA</td><td>20.91683</td><td> 3.93</td></tr>\n",
       "\t<tr><th scope=row>4573</th><td>4712</td><td>Hyundai Santro Xing XG                      </td><td>Pune      </td><td>2003</td><td> 80000</td><td>Petrol</td><td>Manual   </td><td>Second        </td><td>17.00</td><td>  NA</td><td> NA</td><td>NA</td><td>20.91683</td><td> 0.90</td></tr>\n",
       "\t<tr><th scope=row>4805</th><td>4952</td><td>Fiat Punto 1.4 Emotion                      </td><td>Kolkata   </td><td>2010</td><td> 47000</td><td>Petrol</td><td>Manual   </td><td>First         </td><td>14.60</td><td>  NA</td><td> NA</td><td>NA</td><td>20.91683</td><td> 1.49</td></tr>\n",
       "\t<tr><th scope=row>4866</th><td>5015</td><td>Maruti Swift 1.3 VXi                        </td><td>Delhi     </td><td>2006</td><td> 63000</td><td>Petrol</td><td>Manual   </td><td>First         </td><td>16.10</td><td>  NA</td><td> NA</td><td>NA</td><td>20.91683</td><td> 1.60</td></tr>\n",
       "\t<tr><th scope=row>5033</th><td>5185</td><td>Maruti Swift 1.3 LXI                        </td><td>Delhi     </td><td>2012</td><td> 52000</td><td>Petrol</td><td>Manual   </td><td>First         </td><td>16.10</td><td>  NA</td><td> NA</td><td>NA</td><td>20.91683</td><td> 3.65</td></tr>\n",
       "\t<tr><th scope=row>5117</th><td>5270</td><td>Honda City 1.5 GXI                          </td><td>Bangalore </td><td>2002</td><td> 53000</td><td>Petrol</td><td>Manual   </td><td>Second        </td><td> 0.00</td><td>  NA</td><td> NA</td><td>NA</td><td>20.91683</td><td> 1.85</td></tr>\n",
       "</tbody>\n",
       "</table>\n"
      ],
      "text/latex": [
       "A data.frame: 38 × 14\n",
       "\\begin{tabular}{r|llllllllllllll}\n",
       "  & X & Name & Location & Year & Kilometers\\_Driven & Fuel\\_Type & Transmission & Owner\\_Type & Mileage & Engine & Power & Seats & New\\_Price & Price\\\\\n",
       "  & <int> & <chr> & <chr> & <int> & <int> & <chr> & <chr> & <chr> & <dbl> & <dbl> & <dbl> & <dbl> & <dbl> & <dbl>\\\\\n",
       "\\hline\n",
       "\t184 &  194 & Honda City 1.5 GXI                           & Ahmedabad  & 2007 &  60006 & Petrol & Manual    & First          &  0.00 &   NA &  NA & NA & 20.91683 &  2.95\\\\\n",
       "\t198 &  208 & Maruti Swift 1.3 VXi                         & Kolkata    & 2010 &  42001 & Petrol & Manual    & First          & 16.10 &   NA &  NA & NA & 20.91683 &  2.11\\\\\n",
       "\t218 &  229 & Ford Figo Diesel                             & Bangalore  & 2015 &  70436 & Diesel & Manual    & First          &  0.00 & 1498 &  99 & NA & 20.91683 &  3.60\\\\\n",
       "\t707 &  733 & Maruti Swift 1.3 VXi                         & Chennai    & 2006 &  97800 & Petrol & Manual    & Third          & 16.10 &   NA &  NA & NA & 20.91683 &  1.75\\\\\n",
       "\t721 &  749 & Land Rover Range Rover 3.0 D                 & Mumbai     & 2008 &  55001 & Diesel & Automatic & Second         &  0.00 &   NA &  NA & NA & 20.91683 & 26.50\\\\\n",
       "\t1251 & 1294 & Honda City 1.3 DX                            & Delhi      & 2009 &  55005 & Petrol & Manual    & First          & 12.80 &   NA &  NA & NA & 20.91683 &  3.20\\\\\n",
       "\t1282 & 1327 & Maruti Swift 1.3 ZXI                         & Hyderabad  & 2015 &  50295 & Petrol & Manual    & First          & 16.10 &   NA &  NA & NA & 20.91683 &  5.80\\\\\n",
       "\t1337 & 1385 & Honda City 1.5 GXI                           & Pune       & 2004 & 115000 & Petrol & Manual    & Second         &  0.00 &   NA &  NA & NA & 20.91683 &  1.50\\\\\n",
       "\t1410 & 1460 & Land Rover Range Rover Sport 2005 2012 Sport & Coimbatore & 2008 &  69078 & Petrol & Manual    & First          &  0.00 &   NA &  NA & NA & 20.91683 & 40.88\\\\\n",
       "\t1858 & 1917 & Honda City 1.5 EXI                           & Jaipur     & 2005 &  88000 & Petrol & Manual    & Second         & 13.00 & 1493 & 100 & NA & 20.91683 &  1.70\\\\\n",
       "\t2012 & 2074 & Maruti Swift 1.3 LXI                         & Pune       & 2011 &  24255 & Petrol & Manual    & First          & 16.10 &   NA &  NA & NA & 20.91683 &  3.15\\\\\n",
       "\t2034 & 2096 & Hyundai Santro LP zipPlus                    & Coimbatore & 2004 &  52146 & Petrol & Manual    & First          &  0.00 &   NA &  NA & NA & 20.91683 &  1.93\\\\\n",
       "\t2197 & 2264 & Toyota Etios Liva V                          & Pune       & 2012 &  24500 & Petrol & Manual    & Second         & 18.30 &   NA &  NA & NA & 20.91683 &  2.95\\\\\n",
       "\t2254 & 2325 & Maruti Swift 1.3 VXI ABS                     & Pune       & 2015 &  67000 & Petrol & Manual    & First          & 16.10 &   NA &  NA & NA & 20.91683 &  4.70\\\\\n",
       "\t2264 & 2335 & Maruti Swift 1.3 VXi                         & Mumbai     & 2007 &  55000 & Petrol & Manual    & Second         & 16.10 &   NA &  NA & NA & 20.91683 &  1.75\\\\\n",
       "\t2445 & 2530 & BMW 5 Series 520d Sedan                      & Kochi      & 2014 &  64158 & Diesel & Automatic & First          & 18.48 &   NA &  NA & NA & 20.91683 & 17.89\\\\\n",
       "\t2457 & 2542 & Hyundai Santro GLS II - Euro II              & Bangalore  & 2011 &  65000 & Petrol & Manual    & Second         &  0.00 &   NA &  NA & NA & 20.91683 &  3.15\\\\\n",
       "\t2536 & 2623 & BMW 5 Series 520d Sedan                      & Pune       & 2012 &  95000 & Diesel & Automatic & Second         & 18.48 &   NA &  NA & NA & 20.91683 & 18.00\\\\\n",
       "\t2578 & 2668 & Maruti Swift 1.3 VXi                         & Kolkata    & 2014 &  32986 & Petrol & Manual    & First          & 16.10 &   NA &  NA & NA & 20.91683 &  4.24\\\\\n",
       "\t2646 & 2737 & Maruti Wagon R Vx                            & Jaipur     & 2001 & 200000 & Petrol & Manual    & First          & 12.00 &   NA &  NA & NA & 20.91683 &  0.70\\\\\n",
       "\t2689 & 2780 & Hyundai Santro GLS II - Euro II              & Pune       & 2009 & 100000 & Petrol & Manual    & First          &  0.00 &   NA &  NA & NA & 20.91683 &  1.60\\\\\n",
       "\t2751 & 2842 & Hyundai Santro GLS II - Euro II              & Bangalore  & 2012 &  43000 & Petrol & Manual    & First          &  0.00 &   NA &  NA & NA & 20.91683 &  3.25\\\\\n",
       "\t3168 & 3272 & BMW 5 Series 520d Sedan                      & Mumbai     & 2008 &  81000 & Diesel & Automatic & Second         & 18.48 &   NA &  NA & NA & 20.91683 & 10.50\\\\\n",
       "\t3298 & 3404 & Maruti Swift 1.3 VXi                         & Jaipur     & 2006 & 125000 & Petrol & Manual    & Fourth \\& Above & 16.10 &   NA &  NA & NA & 20.91683 &  2.35\\\\\n",
       "\t3410 & 3520 & BMW 5 Series 520d Sedan                      & Delhi      & 2012 &  90000 & Diesel & Automatic & First          & 18.48 &   NA &  NA & NA & 20.91683 & 14.50\\\\\n",
       "\t3412 & 3522 & Hyundai Santro GLS II - Euro II              & Kochi      & 2012 &  66400 & Petrol & Manual    & First          &  0.00 &   NA &  NA & NA & 20.91683 &  2.66\\\\\n",
       "\t3688 & 3810 & Honda CR-V AT With Sun Roof                  & Kolkata    & 2013 &  27000 & Petrol & Automatic & First          & 14.00 &   NA &  NA & NA & 20.91683 & 11.99\\\\\n",
       "\t3883 & 4011 & Fiat Punto 1.3 Emotion                       & Pune       & 2011 &  45271 & Diesel & Manual    & First          & 20.30 &   NA &  NA & NA & 20.91683 &  2.60\\\\\n",
       "\t4020 & 4152 & Land Rover Range Rover 3.0 D                 & Mumbai     & 2003 &  75000 & Diesel & Automatic & Second         &  0.00 &   NA &  NA & NA & 20.91683 & 16.11\\\\\n",
       "\t4097 & 4229 & Hyundai Santro Xing XG                       & Bangalore  & 2005 &  79000 & Petrol & Manual    & Second         & 17.00 &   NA &  NA & NA & 20.91683 &  1.65\\\\\n",
       "\t4441 & 4577 & BMW 5 Series 520d Sedan                      & Delhi      & 2012 &  72000 & Diesel & Automatic & Third          & 18.48 &   NA &  NA & NA & 20.91683 & 13.85\\\\\n",
       "\t4467 & 4604 & Honda Jazz Select Edition                    & Pune       & 2011 &  98000 & Petrol & Manual    & First          & 16.70 &   NA &  NA & NA & 20.91683 &  3.15\\\\\n",
       "\t4559 & 4697 & Fiat Punto 1.2 Dynamic                       & Kochi      & 2017 &  17941 & Petrol & Manual    & First          & 15.70 &   NA &  NA & NA & 20.91683 &  3.93\\\\\n",
       "\t4573 & 4712 & Hyundai Santro Xing XG                       & Pune       & 2003 &  80000 & Petrol & Manual    & Second         & 17.00 &   NA &  NA & NA & 20.91683 &  0.90\\\\\n",
       "\t4805 & 4952 & Fiat Punto 1.4 Emotion                       & Kolkata    & 2010 &  47000 & Petrol & Manual    & First          & 14.60 &   NA &  NA & NA & 20.91683 &  1.49\\\\\n",
       "\t4866 & 5015 & Maruti Swift 1.3 VXi                         & Delhi      & 2006 &  63000 & Petrol & Manual    & First          & 16.10 &   NA &  NA & NA & 20.91683 &  1.60\\\\\n",
       "\t5033 & 5185 & Maruti Swift 1.3 LXI                         & Delhi      & 2012 &  52000 & Petrol & Manual    & First          & 16.10 &   NA &  NA & NA & 20.91683 &  3.65\\\\\n",
       "\t5117 & 5270 & Honda City 1.5 GXI                           & Bangalore  & 2002 &  53000 & Petrol & Manual    & Second         &  0.00 &   NA &  NA & NA & 20.91683 &  1.85\\\\\n",
       "\\end{tabular}\n"
      ],
      "text/markdown": [
       "\n",
       "A data.frame: 38 × 14\n",
       "\n",
       "| <!--/--> | X &lt;int&gt; | Name &lt;chr&gt; | Location &lt;chr&gt; | Year &lt;int&gt; | Kilometers_Driven &lt;int&gt; | Fuel_Type &lt;chr&gt; | Transmission &lt;chr&gt; | Owner_Type &lt;chr&gt; | Mileage &lt;dbl&gt; | Engine &lt;dbl&gt; | Power &lt;dbl&gt; | Seats &lt;dbl&gt; | New_Price &lt;dbl&gt; | Price &lt;dbl&gt; |\n",
       "|---|---|---|---|---|---|---|---|---|---|---|---|---|---|---|\n",
       "| 184 |  194 | Honda City 1.5 GXI                           | Ahmedabad  | 2007 |  60006 | Petrol | Manual    | First          |  0.00 |   NA |  NA | NA | 20.91683 |  2.95 |\n",
       "| 198 |  208 | Maruti Swift 1.3 VXi                         | Kolkata    | 2010 |  42001 | Petrol | Manual    | First          | 16.10 |   NA |  NA | NA | 20.91683 |  2.11 |\n",
       "| 218 |  229 | Ford Figo Diesel                             | Bangalore  | 2015 |  70436 | Diesel | Manual    | First          |  0.00 | 1498 |  99 | NA | 20.91683 |  3.60 |\n",
       "| 707 |  733 | Maruti Swift 1.3 VXi                         | Chennai    | 2006 |  97800 | Petrol | Manual    | Third          | 16.10 |   NA |  NA | NA | 20.91683 |  1.75 |\n",
       "| 721 |  749 | Land Rover Range Rover 3.0 D                 | Mumbai     | 2008 |  55001 | Diesel | Automatic | Second         |  0.00 |   NA |  NA | NA | 20.91683 | 26.50 |\n",
       "| 1251 | 1294 | Honda City 1.3 DX                            | Delhi      | 2009 |  55005 | Petrol | Manual    | First          | 12.80 |   NA |  NA | NA | 20.91683 |  3.20 |\n",
       "| 1282 | 1327 | Maruti Swift 1.3 ZXI                         | Hyderabad  | 2015 |  50295 | Petrol | Manual    | First          | 16.10 |   NA |  NA | NA | 20.91683 |  5.80 |\n",
       "| 1337 | 1385 | Honda City 1.5 GXI                           | Pune       | 2004 | 115000 | Petrol | Manual    | Second         |  0.00 |   NA |  NA | NA | 20.91683 |  1.50 |\n",
       "| 1410 | 1460 | Land Rover Range Rover Sport 2005 2012 Sport | Coimbatore | 2008 |  69078 | Petrol | Manual    | First          |  0.00 |   NA |  NA | NA | 20.91683 | 40.88 |\n",
       "| 1858 | 1917 | Honda City 1.5 EXI                           | Jaipur     | 2005 |  88000 | Petrol | Manual    | Second         | 13.00 | 1493 | 100 | NA | 20.91683 |  1.70 |\n",
       "| 2012 | 2074 | Maruti Swift 1.3 LXI                         | Pune       | 2011 |  24255 | Petrol | Manual    | First          | 16.10 |   NA |  NA | NA | 20.91683 |  3.15 |\n",
       "| 2034 | 2096 | Hyundai Santro LP zipPlus                    | Coimbatore | 2004 |  52146 | Petrol | Manual    | First          |  0.00 |   NA |  NA | NA | 20.91683 |  1.93 |\n",
       "| 2197 | 2264 | Toyota Etios Liva V                          | Pune       | 2012 |  24500 | Petrol | Manual    | Second         | 18.30 |   NA |  NA | NA | 20.91683 |  2.95 |\n",
       "| 2254 | 2325 | Maruti Swift 1.3 VXI ABS                     | Pune       | 2015 |  67000 | Petrol | Manual    | First          | 16.10 |   NA |  NA | NA | 20.91683 |  4.70 |\n",
       "| 2264 | 2335 | Maruti Swift 1.3 VXi                         | Mumbai     | 2007 |  55000 | Petrol | Manual    | Second         | 16.10 |   NA |  NA | NA | 20.91683 |  1.75 |\n",
       "| 2445 | 2530 | BMW 5 Series 520d Sedan                      | Kochi      | 2014 |  64158 | Diesel | Automatic | First          | 18.48 |   NA |  NA | NA | 20.91683 | 17.89 |\n",
       "| 2457 | 2542 | Hyundai Santro GLS II - Euro II              | Bangalore  | 2011 |  65000 | Petrol | Manual    | Second         |  0.00 |   NA |  NA | NA | 20.91683 |  3.15 |\n",
       "| 2536 | 2623 | BMW 5 Series 520d Sedan                      | Pune       | 2012 |  95000 | Diesel | Automatic | Second         | 18.48 |   NA |  NA | NA | 20.91683 | 18.00 |\n",
       "| 2578 | 2668 | Maruti Swift 1.3 VXi                         | Kolkata    | 2014 |  32986 | Petrol | Manual    | First          | 16.10 |   NA |  NA | NA | 20.91683 |  4.24 |\n",
       "| 2646 | 2737 | Maruti Wagon R Vx                            | Jaipur     | 2001 | 200000 | Petrol | Manual    | First          | 12.00 |   NA |  NA | NA | 20.91683 |  0.70 |\n",
       "| 2689 | 2780 | Hyundai Santro GLS II - Euro II              | Pune       | 2009 | 100000 | Petrol | Manual    | First          |  0.00 |   NA |  NA | NA | 20.91683 |  1.60 |\n",
       "| 2751 | 2842 | Hyundai Santro GLS II - Euro II              | Bangalore  | 2012 |  43000 | Petrol | Manual    | First          |  0.00 |   NA |  NA | NA | 20.91683 |  3.25 |\n",
       "| 3168 | 3272 | BMW 5 Series 520d Sedan                      | Mumbai     | 2008 |  81000 | Diesel | Automatic | Second         | 18.48 |   NA |  NA | NA | 20.91683 | 10.50 |\n",
       "| 3298 | 3404 | Maruti Swift 1.3 VXi                         | Jaipur     | 2006 | 125000 | Petrol | Manual    | Fourth &amp; Above | 16.10 |   NA |  NA | NA | 20.91683 |  2.35 |\n",
       "| 3410 | 3520 | BMW 5 Series 520d Sedan                      | Delhi      | 2012 |  90000 | Diesel | Automatic | First          | 18.48 |   NA |  NA | NA | 20.91683 | 14.50 |\n",
       "| 3412 | 3522 | Hyundai Santro GLS II - Euro II              | Kochi      | 2012 |  66400 | Petrol | Manual    | First          |  0.00 |   NA |  NA | NA | 20.91683 |  2.66 |\n",
       "| 3688 | 3810 | Honda CR-V AT With Sun Roof                  | Kolkata    | 2013 |  27000 | Petrol | Automatic | First          | 14.00 |   NA |  NA | NA | 20.91683 | 11.99 |\n",
       "| 3883 | 4011 | Fiat Punto 1.3 Emotion                       | Pune       | 2011 |  45271 | Diesel | Manual    | First          | 20.30 |   NA |  NA | NA | 20.91683 |  2.60 |\n",
       "| 4020 | 4152 | Land Rover Range Rover 3.0 D                 | Mumbai     | 2003 |  75000 | Diesel | Automatic | Second         |  0.00 |   NA |  NA | NA | 20.91683 | 16.11 |\n",
       "| 4097 | 4229 | Hyundai Santro Xing XG                       | Bangalore  | 2005 |  79000 | Petrol | Manual    | Second         | 17.00 |   NA |  NA | NA | 20.91683 |  1.65 |\n",
       "| 4441 | 4577 | BMW 5 Series 520d Sedan                      | Delhi      | 2012 |  72000 | Diesel | Automatic | Third          | 18.48 |   NA |  NA | NA | 20.91683 | 13.85 |\n",
       "| 4467 | 4604 | Honda Jazz Select Edition                    | Pune       | 2011 |  98000 | Petrol | Manual    | First          | 16.70 |   NA |  NA | NA | 20.91683 |  3.15 |\n",
       "| 4559 | 4697 | Fiat Punto 1.2 Dynamic                       | Kochi      | 2017 |  17941 | Petrol | Manual    | First          | 15.70 |   NA |  NA | NA | 20.91683 |  3.93 |\n",
       "| 4573 | 4712 | Hyundai Santro Xing XG                       | Pune       | 2003 |  80000 | Petrol | Manual    | Second         | 17.00 |   NA |  NA | NA | 20.91683 |  0.90 |\n",
       "| 4805 | 4952 | Fiat Punto 1.4 Emotion                       | Kolkata    | 2010 |  47000 | Petrol | Manual    | First          | 14.60 |   NA |  NA | NA | 20.91683 |  1.49 |\n",
       "| 4866 | 5015 | Maruti Swift 1.3 VXi                         | Delhi      | 2006 |  63000 | Petrol | Manual    | First          | 16.10 |   NA |  NA | NA | 20.91683 |  1.60 |\n",
       "| 5033 | 5185 | Maruti Swift 1.3 LXI                         | Delhi      | 2012 |  52000 | Petrol | Manual    | First          | 16.10 |   NA |  NA | NA | 20.91683 |  3.65 |\n",
       "| 5117 | 5270 | Honda City 1.5 GXI                           | Bangalore  | 2002 |  53000 | Petrol | Manual    | Second         |  0.00 |   NA |  NA | NA | 20.91683 |  1.85 |\n",
       "\n"
      ],
      "text/plain": [
       "     X    Name                                         Location   Year\n",
       "184   194 Honda City 1.5 GXI                           Ahmedabad  2007\n",
       "198   208 Maruti Swift 1.3 VXi                         Kolkata    2010\n",
       "218   229 Ford Figo Diesel                             Bangalore  2015\n",
       "707   733 Maruti Swift 1.3 VXi                         Chennai    2006\n",
       "721   749 Land Rover Range Rover 3.0 D                 Mumbai     2008\n",
       "1251 1294 Honda City 1.3 DX                            Delhi      2009\n",
       "1282 1327 Maruti Swift 1.3 ZXI                         Hyderabad  2015\n",
       "1337 1385 Honda City 1.5 GXI                           Pune       2004\n",
       "1410 1460 Land Rover Range Rover Sport 2005 2012 Sport Coimbatore 2008\n",
       "1858 1917 Honda City 1.5 EXI                           Jaipur     2005\n",
       "2012 2074 Maruti Swift 1.3 LXI                         Pune       2011\n",
       "2034 2096 Hyundai Santro LP zipPlus                    Coimbatore 2004\n",
       "2197 2264 Toyota Etios Liva V                          Pune       2012\n",
       "2254 2325 Maruti Swift 1.3 VXI ABS                     Pune       2015\n",
       "2264 2335 Maruti Swift 1.3 VXi                         Mumbai     2007\n",
       "2445 2530 BMW 5 Series 520d Sedan                      Kochi      2014\n",
       "2457 2542 Hyundai Santro GLS II - Euro II              Bangalore  2011\n",
       "2536 2623 BMW 5 Series 520d Sedan                      Pune       2012\n",
       "2578 2668 Maruti Swift 1.3 VXi                         Kolkata    2014\n",
       "2646 2737 Maruti Wagon R Vx                            Jaipur     2001\n",
       "2689 2780 Hyundai Santro GLS II - Euro II              Pune       2009\n",
       "2751 2842 Hyundai Santro GLS II - Euro II              Bangalore  2012\n",
       "3168 3272 BMW 5 Series 520d Sedan                      Mumbai     2008\n",
       "3298 3404 Maruti Swift 1.3 VXi                         Jaipur     2006\n",
       "3410 3520 BMW 5 Series 520d Sedan                      Delhi      2012\n",
       "3412 3522 Hyundai Santro GLS II - Euro II              Kochi      2012\n",
       "3688 3810 Honda CR-V AT With Sun Roof                  Kolkata    2013\n",
       "3883 4011 Fiat Punto 1.3 Emotion                       Pune       2011\n",
       "4020 4152 Land Rover Range Rover 3.0 D                 Mumbai     2003\n",
       "4097 4229 Hyundai Santro Xing XG                       Bangalore  2005\n",
       "4441 4577 BMW 5 Series 520d Sedan                      Delhi      2012\n",
       "4467 4604 Honda Jazz Select Edition                    Pune       2011\n",
       "4559 4697 Fiat Punto 1.2 Dynamic                       Kochi      2017\n",
       "4573 4712 Hyundai Santro Xing XG                       Pune       2003\n",
       "4805 4952 Fiat Punto 1.4 Emotion                       Kolkata    2010\n",
       "4866 5015 Maruti Swift 1.3 VXi                         Delhi      2006\n",
       "5033 5185 Maruti Swift 1.3 LXI                         Delhi      2012\n",
       "5117 5270 Honda City 1.5 GXI                           Bangalore  2002\n",
       "     Kilometers_Driven Fuel_Type Transmission Owner_Type     Mileage Engine\n",
       "184   60006            Petrol    Manual       First           0.00     NA  \n",
       "198   42001            Petrol    Manual       First          16.10     NA  \n",
       "218   70436            Diesel    Manual       First           0.00   1498  \n",
       "707   97800            Petrol    Manual       Third          16.10     NA  \n",
       "721   55001            Diesel    Automatic    Second          0.00     NA  \n",
       "1251  55005            Petrol    Manual       First          12.80     NA  \n",
       "1282  50295            Petrol    Manual       First          16.10     NA  \n",
       "1337 115000            Petrol    Manual       Second          0.00     NA  \n",
       "1410  69078            Petrol    Manual       First           0.00     NA  \n",
       "1858  88000            Petrol    Manual       Second         13.00   1493  \n",
       "2012  24255            Petrol    Manual       First          16.10     NA  \n",
       "2034  52146            Petrol    Manual       First           0.00     NA  \n",
       "2197  24500            Petrol    Manual       Second         18.30     NA  \n",
       "2254  67000            Petrol    Manual       First          16.10     NA  \n",
       "2264  55000            Petrol    Manual       Second         16.10     NA  \n",
       "2445  64158            Diesel    Automatic    First          18.48     NA  \n",
       "2457  65000            Petrol    Manual       Second          0.00     NA  \n",
       "2536  95000            Diesel    Automatic    Second         18.48     NA  \n",
       "2578  32986            Petrol    Manual       First          16.10     NA  \n",
       "2646 200000            Petrol    Manual       First          12.00     NA  \n",
       "2689 100000            Petrol    Manual       First           0.00     NA  \n",
       "2751  43000            Petrol    Manual       First           0.00     NA  \n",
       "3168  81000            Diesel    Automatic    Second         18.48     NA  \n",
       "3298 125000            Petrol    Manual       Fourth & Above 16.10     NA  \n",
       "3410  90000            Diesel    Automatic    First          18.48     NA  \n",
       "3412  66400            Petrol    Manual       First           0.00     NA  \n",
       "3688  27000            Petrol    Automatic    First          14.00     NA  \n",
       "3883  45271            Diesel    Manual       First          20.30     NA  \n",
       "4020  75000            Diesel    Automatic    Second          0.00     NA  \n",
       "4097  79000            Petrol    Manual       Second         17.00     NA  \n",
       "4441  72000            Diesel    Automatic    Third          18.48     NA  \n",
       "4467  98000            Petrol    Manual       First          16.70     NA  \n",
       "4559  17941            Petrol    Manual       First          15.70     NA  \n",
       "4573  80000            Petrol    Manual       Second         17.00     NA  \n",
       "4805  47000            Petrol    Manual       First          14.60     NA  \n",
       "4866  63000            Petrol    Manual       First          16.10     NA  \n",
       "5033  52000            Petrol    Manual       First          16.10     NA  \n",
       "5117  53000            Petrol    Manual       Second          0.00     NA  \n",
       "     Power Seats New_Price Price\n",
       "184   NA   NA    20.91683   2.95\n",
       "198   NA   NA    20.91683   2.11\n",
       "218   99   NA    20.91683   3.60\n",
       "707   NA   NA    20.91683   1.75\n",
       "721   NA   NA    20.91683  26.50\n",
       "1251  NA   NA    20.91683   3.20\n",
       "1282  NA   NA    20.91683   5.80\n",
       "1337  NA   NA    20.91683   1.50\n",
       "1410  NA   NA    20.91683  40.88\n",
       "1858 100   NA    20.91683   1.70\n",
       "2012  NA   NA    20.91683   3.15\n",
       "2034  NA   NA    20.91683   1.93\n",
       "2197  NA   NA    20.91683   2.95\n",
       "2254  NA   NA    20.91683   4.70\n",
       "2264  NA   NA    20.91683   1.75\n",
       "2445  NA   NA    20.91683  17.89\n",
       "2457  NA   NA    20.91683   3.15\n",
       "2536  NA   NA    20.91683  18.00\n",
       "2578  NA   NA    20.91683   4.24\n",
       "2646  NA   NA    20.91683   0.70\n",
       "2689  NA   NA    20.91683   1.60\n",
       "2751  NA   NA    20.91683   3.25\n",
       "3168  NA   NA    20.91683  10.50\n",
       "3298  NA   NA    20.91683   2.35\n",
       "3410  NA   NA    20.91683  14.50\n",
       "3412  NA   NA    20.91683   2.66\n",
       "3688  NA   NA    20.91683  11.99\n",
       "3883  NA   NA    20.91683   2.60\n",
       "4020  NA   NA    20.91683  16.11\n",
       "4097  NA   NA    20.91683   1.65\n",
       "4441  NA   NA    20.91683  13.85\n",
       "4467  NA   NA    20.91683   3.15\n",
       "4559  NA   NA    20.91683   3.93\n",
       "4573  NA   NA    20.91683   0.90\n",
       "4805  NA   NA    20.91683   1.49\n",
       "4866  NA   NA    20.91683   1.60\n",
       "5033  NA   NA    20.91683   3.65\n",
       "5117  NA   NA    20.91683   1.85"
      ]
     },
     "metadata": {},
     "output_type": "display_data"
    },
    {
     "name": "stdout",
     "output_type": "stream",
     "text": [
      "TOTAL PERCENT OF DATAFRAME: 0.650462170489558"
     ]
    }
   ],
   "source": [
    "df[!complete.cases(df),]\n",
    "\n",
    "cat(sprintf(\"TOTAL PERCENT OF DATAFRAME: %s\", (nrow(df[!complete.cases(df),])) / (nrow(df)) * 100))"
   ]
  },
  {
   "cell_type": "markdown",
   "id": "1fb27a48-b14f-4e60-9af2-577f1368d8bf",
   "metadata": {},
   "source": [
    "As a result of being a low percentage of the overall dataset, and contributing little variance to several of the features, I'll just remove these rows."
   ]
  },
  {
   "cell_type": "code",
   "execution_count": 9,
   "id": "2e2551b3-60b5-49d9-971e-5e63d4f3000e",
   "metadata": {},
   "outputs": [
    {
     "data": {
      "text/html": [
       "<style>\n",
       ".dl-inline {width: auto; margin:0; padding: 0}\n",
       ".dl-inline>dt, .dl-inline>dd {float: none; width: auto; display: inline-block}\n",
       ".dl-inline>dt::after {content: \":\\0020\"; padding-right: .5ex}\n",
       ".dl-inline>dt:not(:first-of-type) {padding-left: .5ex}\n",
       "</style><dl class=dl-inline><dt>X</dt><dd>0</dd><dt>Name</dt><dd>0</dd><dt>Location</dt><dd>0</dd><dt>Year</dt><dd>0</dd><dt>Kilometers_Driven</dt><dd>0</dd><dt>Fuel_Type</dt><dd>0</dd><dt>Transmission</dt><dd>0</dd><dt>Owner_Type</dt><dd>0</dd><dt>Mileage</dt><dd>0</dd><dt>Engine</dt><dd>0</dd><dt>Power</dt><dd>0</dd><dt>Seats</dt><dd>0</dd><dt>New_Price</dt><dd>0</dd><dt>Price</dt><dd>0</dd></dl>\n"
      ],
      "text/latex": [
       "\\begin{description*}\n",
       "\\item[X] 0\n",
       "\\item[Name] 0\n",
       "\\item[Location] 0\n",
       "\\item[Year] 0\n",
       "\\item[Kilometers\\textbackslash{}\\_Driven] 0\n",
       "\\item[Fuel\\textbackslash{}\\_Type] 0\n",
       "\\item[Transmission] 0\n",
       "\\item[Owner\\textbackslash{}\\_Type] 0\n",
       "\\item[Mileage] 0\n",
       "\\item[Engine] 0\n",
       "\\item[Power] 0\n",
       "\\item[Seats] 0\n",
       "\\item[New\\textbackslash{}\\_Price] 0\n",
       "\\item[Price] 0\n",
       "\\end{description*}\n"
      ],
      "text/markdown": [
       "X\n",
       ":   0Name\n",
       ":   0Location\n",
       ":   0Year\n",
       ":   0Kilometers_Driven\n",
       ":   0Fuel_Type\n",
       ":   0Transmission\n",
       ":   0Owner_Type\n",
       ":   0Mileage\n",
       ":   0Engine\n",
       ":   0Power\n",
       ":   0Seats\n",
       ":   0New_Price\n",
       ":   0Price\n",
       ":   0\n",
       "\n"
      ],
      "text/plain": [
       "                X              Name          Location              Year \n",
       "                0                 0                 0                 0 \n",
       "Kilometers_Driven         Fuel_Type      Transmission        Owner_Type \n",
       "                0                 0                 0                 0 \n",
       "          Mileage            Engine             Power             Seats \n",
       "                0                 0                 0                 0 \n",
       "        New_Price             Price \n",
       "                0                 0 "
      ]
     },
     "metadata": {},
     "output_type": "display_data"
    }
   ],
   "source": [
    "df <- df[complete.cases(df),]\n",
    "\n",
    "apply(df, 2, function(x) sum(is.na(x)))"
   ]
  },
  {
   "cell_type": "code",
   "execution_count": 10,
   "id": "b155d6d3-5e58-4e6a-8874-f5f27b4e7649",
   "metadata": {},
   "outputs": [],
   "source": [
    "write.csv(df, 'data_clean/01_removed_na.csv')"
   ]
  },
  {
   "cell_type": "markdown",
   "id": "d44ef9e6-0de1-4149-848b-e069710885de",
   "metadata": {},
   "source": [
    "# Part c: One-Hot Encoding\n",
    "\n",
    "Both Fuel_Type and Transmission are categorical variables that have two unique values. In order to one-hot encode these features, 4 new columns will be made: Fuel_TypeDiesel, Fuel_TypePetrol, TransmissionAutomatic, and TransmissionManual. Each row in these columns will contain either 1 for presence of that feature, or 0 for absence. The caret library was used for this section."
   ]
  },
  {
   "cell_type": "code",
   "execution_count": 11,
   "id": "23055645-3601-4032-bda4-38dd117fddca",
   "metadata": {},
   "outputs": [
    {
     "data": {
      "text/html": [
       "<style>\n",
       ".list-inline {list-style: none; margin:0; padding: 0}\n",
       ".list-inline>li {display: inline-block}\n",
       ".list-inline>li:not(:last-child)::after {content: \"\\00b7\"; padding: 0 .5ex}\n",
       "</style>\n",
       "<ol class=list-inline><li>'Diesel'</li><li>'Petrol'</li></ol>\n"
      ],
      "text/latex": [
       "\\begin{enumerate*}\n",
       "\\item 'Diesel'\n",
       "\\item 'Petrol'\n",
       "\\end{enumerate*}\n"
      ],
      "text/markdown": [
       "1. 'Diesel'\n",
       "2. 'Petrol'\n",
       "\n",
       "\n"
      ],
      "text/plain": [
       "[1] \"Diesel\" \"Petrol\""
      ]
     },
     "metadata": {},
     "output_type": "display_data"
    },
    {
     "data": {
      "text/html": [
       "<style>\n",
       ".list-inline {list-style: none; margin:0; padding: 0}\n",
       ".list-inline>li {display: inline-block}\n",
       ".list-inline>li:not(:last-child)::after {content: \"\\00b7\"; padding: 0 .5ex}\n",
       "</style>\n",
       "<ol class=list-inline><li>'Manual'</li><li>'Automatic'</li></ol>\n"
      ],
      "text/latex": [
       "\\begin{enumerate*}\n",
       "\\item 'Manual'\n",
       "\\item 'Automatic'\n",
       "\\end{enumerate*}\n"
      ],
      "text/markdown": [
       "1. 'Manual'\n",
       "2. 'Automatic'\n",
       "\n",
       "\n"
      ],
      "text/plain": [
       "[1] \"Manual\"    \"Automatic\""
      ]
     },
     "metadata": {},
     "output_type": "display_data"
    },
    {
     "data": {
      "text/html": [
       "<table class=\"dataframe\">\n",
       "<caption>A data.frame: 6 × 16</caption>\n",
       "<thead>\n",
       "\t<tr><th></th><th scope=col>X</th><th scope=col>Name</th><th scope=col>Location</th><th scope=col>Year</th><th scope=col>Kilometers_Driven</th><th scope=col>Owner_Type</th><th scope=col>Mileage</th><th scope=col>Engine</th><th scope=col>Power</th><th scope=col>Seats</th><th scope=col>New_Price</th><th scope=col>Price</th><th scope=col>Fuel_TypeDiesel</th><th scope=col>Fuel_TypePetrol</th><th scope=col>TransmissionAutomatic</th><th scope=col>TransmissionManual</th></tr>\n",
       "\t<tr><th></th><th scope=col>&lt;int&gt;</th><th scope=col>&lt;chr&gt;</th><th scope=col>&lt;chr&gt;</th><th scope=col>&lt;int&gt;</th><th scope=col>&lt;int&gt;</th><th scope=col>&lt;chr&gt;</th><th scope=col>&lt;dbl&gt;</th><th scope=col>&lt;dbl&gt;</th><th scope=col>&lt;dbl&gt;</th><th scope=col>&lt;dbl&gt;</th><th scope=col>&lt;dbl&gt;</th><th scope=col>&lt;dbl&gt;</th><th scope=col>&lt;dbl&gt;</th><th scope=col>&lt;dbl&gt;</th><th scope=col>&lt;dbl&gt;</th><th scope=col>&lt;dbl&gt;</th></tr>\n",
       "</thead>\n",
       "<tbody>\n",
       "\t<tr><th scope=row>1</th><td>1</td><td>Hyundai Creta 1.6 CRDi SX Option   </td><td>Pune      </td><td>2015</td><td>41000</td><td>First </td><td>19.67</td><td>1582</td><td>126.20</td><td>5</td><td>20.91683</td><td>12.50</td><td>1</td><td>0</td><td>0</td><td>1</td></tr>\n",
       "\t<tr><th scope=row>2</th><td>3</td><td>Maruti Ertiga VDI                  </td><td>Chennai   </td><td>2012</td><td>87000</td><td>First </td><td>20.77</td><td>1248</td><td> 88.76</td><td>7</td><td>20.91683</td><td> 6.00</td><td>1</td><td>0</td><td>0</td><td>1</td></tr>\n",
       "\t<tr><th scope=row>3</th><td>4</td><td>Audi A4 New 2.0 TDI Multitronic    </td><td>Coimbatore</td><td>2013</td><td>40670</td><td>Second</td><td>15.20</td><td>1968</td><td>140.80</td><td>5</td><td>20.91683</td><td>17.74</td><td>1</td><td>0</td><td>1</td><td>0</td></tr>\n",
       "\t<tr><th scope=row>4</th><td>6</td><td>Nissan Micra Diesel XV             </td><td>Jaipur    </td><td>2013</td><td>86999</td><td>First </td><td>23.08</td><td>1461</td><td> 63.10</td><td>5</td><td>20.91683</td><td> 3.50</td><td>1</td><td>0</td><td>0</td><td>1</td></tr>\n",
       "\t<tr><th scope=row>5</th><td>7</td><td>Toyota Innova Crysta 2.8 GX AT 8S  </td><td>Mumbai    </td><td>2016</td><td>36000</td><td>First </td><td>11.36</td><td>2755</td><td>171.50</td><td>8</td><td>21.00000</td><td>17.50</td><td>1</td><td>0</td><td>1</td><td>0</td></tr>\n",
       "\t<tr><th scope=row>6</th><td>8</td><td>Volkswagen Vento Diesel Comfortline</td><td>Pune      </td><td>2013</td><td>64430</td><td>First </td><td>20.54</td><td>1598</td><td>103.60</td><td>5</td><td>20.91683</td><td> 5.20</td><td>1</td><td>0</td><td>0</td><td>1</td></tr>\n",
       "</tbody>\n",
       "</table>\n"
      ],
      "text/latex": [
       "A data.frame: 6 × 16\n",
       "\\begin{tabular}{r|llllllllllllllll}\n",
       "  & X & Name & Location & Year & Kilometers\\_Driven & Owner\\_Type & Mileage & Engine & Power & Seats & New\\_Price & Price & Fuel\\_TypeDiesel & Fuel\\_TypePetrol & TransmissionAutomatic & TransmissionManual\\\\\n",
       "  & <int> & <chr> & <chr> & <int> & <int> & <chr> & <dbl> & <dbl> & <dbl> & <dbl> & <dbl> & <dbl> & <dbl> & <dbl> & <dbl> & <dbl>\\\\\n",
       "\\hline\n",
       "\t1 & 1 & Hyundai Creta 1.6 CRDi SX Option    & Pune       & 2015 & 41000 & First  & 19.67 & 1582 & 126.20 & 5 & 20.91683 & 12.50 & 1 & 0 & 0 & 1\\\\\n",
       "\t2 & 3 & Maruti Ertiga VDI                   & Chennai    & 2012 & 87000 & First  & 20.77 & 1248 &  88.76 & 7 & 20.91683 &  6.00 & 1 & 0 & 0 & 1\\\\\n",
       "\t3 & 4 & Audi A4 New 2.0 TDI Multitronic     & Coimbatore & 2013 & 40670 & Second & 15.20 & 1968 & 140.80 & 5 & 20.91683 & 17.74 & 1 & 0 & 1 & 0\\\\\n",
       "\t4 & 6 & Nissan Micra Diesel XV              & Jaipur     & 2013 & 86999 & First  & 23.08 & 1461 &  63.10 & 5 & 20.91683 &  3.50 & 1 & 0 & 0 & 1\\\\\n",
       "\t5 & 7 & Toyota Innova Crysta 2.8 GX AT 8S   & Mumbai     & 2016 & 36000 & First  & 11.36 & 2755 & 171.50 & 8 & 21.00000 & 17.50 & 1 & 0 & 1 & 0\\\\\n",
       "\t6 & 8 & Volkswagen Vento Diesel Comfortline & Pune       & 2013 & 64430 & First  & 20.54 & 1598 & 103.60 & 5 & 20.91683 &  5.20 & 1 & 0 & 0 & 1\\\\\n",
       "\\end{tabular}\n"
      ],
      "text/markdown": [
       "\n",
       "A data.frame: 6 × 16\n",
       "\n",
       "| <!--/--> | X &lt;int&gt; | Name &lt;chr&gt; | Location &lt;chr&gt; | Year &lt;int&gt; | Kilometers_Driven &lt;int&gt; | Owner_Type &lt;chr&gt; | Mileage &lt;dbl&gt; | Engine &lt;dbl&gt; | Power &lt;dbl&gt; | Seats &lt;dbl&gt; | New_Price &lt;dbl&gt; | Price &lt;dbl&gt; | Fuel_TypeDiesel &lt;dbl&gt; | Fuel_TypePetrol &lt;dbl&gt; | TransmissionAutomatic &lt;dbl&gt; | TransmissionManual &lt;dbl&gt; |\n",
       "|---|---|---|---|---|---|---|---|---|---|---|---|---|---|---|---|---|\n",
       "| 1 | 1 | Hyundai Creta 1.6 CRDi SX Option    | Pune       | 2015 | 41000 | First  | 19.67 | 1582 | 126.20 | 5 | 20.91683 | 12.50 | 1 | 0 | 0 | 1 |\n",
       "| 2 | 3 | Maruti Ertiga VDI                   | Chennai    | 2012 | 87000 | First  | 20.77 | 1248 |  88.76 | 7 | 20.91683 |  6.00 | 1 | 0 | 0 | 1 |\n",
       "| 3 | 4 | Audi A4 New 2.0 TDI Multitronic     | Coimbatore | 2013 | 40670 | Second | 15.20 | 1968 | 140.80 | 5 | 20.91683 | 17.74 | 1 | 0 | 1 | 0 |\n",
       "| 4 | 6 | Nissan Micra Diesel XV              | Jaipur     | 2013 | 86999 | First  | 23.08 | 1461 |  63.10 | 5 | 20.91683 |  3.50 | 1 | 0 | 0 | 1 |\n",
       "| 5 | 7 | Toyota Innova Crysta 2.8 GX AT 8S   | Mumbai     | 2016 | 36000 | First  | 11.36 | 2755 | 171.50 | 8 | 21.00000 | 17.50 | 1 | 0 | 1 | 0 |\n",
       "| 6 | 8 | Volkswagen Vento Diesel Comfortline | Pune       | 2013 | 64430 | First  | 20.54 | 1598 | 103.60 | 5 | 20.91683 |  5.20 | 1 | 0 | 0 | 1 |\n",
       "\n"
      ],
      "text/plain": [
       "  X Name                                Location   Year Kilometers_Driven\n",
       "1 1 Hyundai Creta 1.6 CRDi SX Option    Pune       2015 41000            \n",
       "2 3 Maruti Ertiga VDI                   Chennai    2012 87000            \n",
       "3 4 Audi A4 New 2.0 TDI Multitronic     Coimbatore 2013 40670            \n",
       "4 6 Nissan Micra Diesel XV              Jaipur     2013 86999            \n",
       "5 7 Toyota Innova Crysta 2.8 GX AT 8S   Mumbai     2016 36000            \n",
       "6 8 Volkswagen Vento Diesel Comfortline Pune       2013 64430            \n",
       "  Owner_Type Mileage Engine Power  Seats New_Price Price Fuel_TypeDiesel\n",
       "1 First      19.67   1582   126.20 5     20.91683  12.50 1              \n",
       "2 First      20.77   1248    88.76 7     20.91683   6.00 1              \n",
       "3 Second     15.20   1968   140.80 5     20.91683  17.74 1              \n",
       "4 First      23.08   1461    63.10 5     20.91683   3.50 1              \n",
       "5 First      11.36   2755   171.50 8     21.00000  17.50 1              \n",
       "6 First      20.54   1598   103.60 5     20.91683   5.20 1              \n",
       "  Fuel_TypePetrol TransmissionAutomatic TransmissionManual\n",
       "1 0               0                     1                 \n",
       "2 0               0                     1                 \n",
       "3 0               1                     0                 \n",
       "4 0               0                     1                 \n",
       "5 0               1                     0                 \n",
       "6 0               0                     1                 "
      ]
     },
     "metadata": {},
     "output_type": "display_data"
    }
   ],
   "source": [
    "unique(df$Fuel_Type)\n",
    "unique(df$Transmission)\n",
    "\n",
    "# create dummy vars (split features and assign values of 0 or 1)\n",
    "dummy <- dummyVars(~ Fuel_Type + Transmission, data=df)\n",
    "df_new <- data.frame(predict(dummy, newdata=df))\n",
    "\n",
    "df <- df %>% select(-6:-7) %>% cbind(df_new)\n",
    "df %>% head"
   ]
  },
  {
   "cell_type": "code",
   "execution_count": 12,
   "id": "6ba1d99c-b722-460b-a66a-d4f53720a7df",
   "metadata": {},
   "outputs": [],
   "source": [
    "write.csv(df, 'data_clean/02_one_hot.csv')"
   ]
  },
  {
   "cell_type": "markdown",
   "id": "aaac26bc-9ef6-4c46-bb9a-8918f9a70799",
   "metadata": {},
   "source": [
    "# Part d: Adding Features\n",
    "\n",
    "In this section, two new columns will be added which describes the age of the car, and the average value loss per year. "
   ]
  },
  {
   "cell_type": "code",
   "execution_count": 13,
   "id": "a1406f3f-6865-452b-8c2f-17c5423bac61",
   "metadata": {},
   "outputs": [
    {
     "data": {
      "text/html": [
       "<table class=\"dataframe\">\n",
       "<caption>A data.frame: 6 × 18</caption>\n",
       "<thead>\n",
       "\t<tr><th></th><th scope=col>X</th><th scope=col>Name</th><th scope=col>Location</th><th scope=col>Year</th><th scope=col>Kilometers_Driven</th><th scope=col>Owner_Type</th><th scope=col>Mileage</th><th scope=col>Engine</th><th scope=col>Power</th><th scope=col>Seats</th><th scope=col>New_Price</th><th scope=col>Price</th><th scope=col>Fuel_TypeDiesel</th><th scope=col>Fuel_TypePetrol</th><th scope=col>TransmissionAutomatic</th><th scope=col>TransmissionManual</th><th scope=col>Age</th><th scope=col>Annual_Value_Loss</th></tr>\n",
       "\t<tr><th></th><th scope=col>&lt;int&gt;</th><th scope=col>&lt;chr&gt;</th><th scope=col>&lt;chr&gt;</th><th scope=col>&lt;int&gt;</th><th scope=col>&lt;int&gt;</th><th scope=col>&lt;chr&gt;</th><th scope=col>&lt;dbl&gt;</th><th scope=col>&lt;dbl&gt;</th><th scope=col>&lt;dbl&gt;</th><th scope=col>&lt;dbl&gt;</th><th scope=col>&lt;dbl&gt;</th><th scope=col>&lt;dbl&gt;</th><th scope=col>&lt;dbl&gt;</th><th scope=col>&lt;dbl&gt;</th><th scope=col>&lt;dbl&gt;</th><th scope=col>&lt;dbl&gt;</th><th scope=col>&lt;dbl&gt;</th><th scope=col>&lt;dbl&gt;</th></tr>\n",
       "</thead>\n",
       "<tbody>\n",
       "\t<tr><th scope=row>1</th><td>1</td><td>Hyundai Creta 1.6 CRDi SX Option   </td><td>Pune      </td><td>2015</td><td>41000</td><td>First </td><td>19.67</td><td>1582</td><td>126.20</td><td>5</td><td>20.91683</td><td>12.50</td><td>1</td><td>0</td><td>0</td><td>1</td><td> 9</td><td>0.9352038</td></tr>\n",
       "\t<tr><th scope=row>2</th><td>3</td><td>Maruti Ertiga VDI                  </td><td>Chennai   </td><td>2012</td><td>87000</td><td>First </td><td>20.77</td><td>1248</td><td> 88.76</td><td>7</td><td>20.91683</td><td> 6.00</td><td>1</td><td>0</td><td>0</td><td>1</td><td>12</td><td>1.2430695</td></tr>\n",
       "\t<tr><th scope=row>3</th><td>4</td><td>Audi A4 New 2.0 TDI Multitronic    </td><td>Coimbatore</td><td>2013</td><td>40670</td><td>Second</td><td>15.20</td><td>1968</td><td>140.80</td><td>5</td><td>20.91683</td><td>17.74</td><td>1</td><td>0</td><td>1</td><td>0</td><td>11</td><td>0.2888031</td></tr>\n",
       "\t<tr><th scope=row>4</th><td>6</td><td>Nissan Micra Diesel XV             </td><td>Jaipur    </td><td>2013</td><td>86999</td><td>First </td><td>23.08</td><td>1461</td><td> 63.10</td><td>5</td><td>20.91683</td><td> 3.50</td><td>1</td><td>0</td><td>0</td><td>1</td><td>11</td><td>1.5833486</td></tr>\n",
       "\t<tr><th scope=row>5</th><td>7</td><td>Toyota Innova Crysta 2.8 GX AT 8S  </td><td>Mumbai    </td><td>2016</td><td>36000</td><td>First </td><td>11.36</td><td>2755</td><td>171.50</td><td>8</td><td>21.00000</td><td>17.50</td><td>1</td><td>0</td><td>1</td><td>0</td><td> 8</td><td>0.4375000</td></tr>\n",
       "\t<tr><th scope=row>6</th><td>8</td><td>Volkswagen Vento Diesel Comfortline</td><td>Pune      </td><td>2013</td><td>64430</td><td>First </td><td>20.54</td><td>1598</td><td>103.60</td><td>5</td><td>20.91683</td><td> 5.20</td><td>1</td><td>0</td><td>0</td><td>1</td><td>11</td><td>1.4288031</td></tr>\n",
       "</tbody>\n",
       "</table>\n"
      ],
      "text/latex": [
       "A data.frame: 6 × 18\n",
       "\\begin{tabular}{r|llllllllllllllllll}\n",
       "  & X & Name & Location & Year & Kilometers\\_Driven & Owner\\_Type & Mileage & Engine & Power & Seats & New\\_Price & Price & Fuel\\_TypeDiesel & Fuel\\_TypePetrol & TransmissionAutomatic & TransmissionManual & Age & Annual\\_Value\\_Loss\\\\\n",
       "  & <int> & <chr> & <chr> & <int> & <int> & <chr> & <dbl> & <dbl> & <dbl> & <dbl> & <dbl> & <dbl> & <dbl> & <dbl> & <dbl> & <dbl> & <dbl> & <dbl>\\\\\n",
       "\\hline\n",
       "\t1 & 1 & Hyundai Creta 1.6 CRDi SX Option    & Pune       & 2015 & 41000 & First  & 19.67 & 1582 & 126.20 & 5 & 20.91683 & 12.50 & 1 & 0 & 0 & 1 &  9 & 0.9352038\\\\\n",
       "\t2 & 3 & Maruti Ertiga VDI                   & Chennai    & 2012 & 87000 & First  & 20.77 & 1248 &  88.76 & 7 & 20.91683 &  6.00 & 1 & 0 & 0 & 1 & 12 & 1.2430695\\\\\n",
       "\t3 & 4 & Audi A4 New 2.0 TDI Multitronic     & Coimbatore & 2013 & 40670 & Second & 15.20 & 1968 & 140.80 & 5 & 20.91683 & 17.74 & 1 & 0 & 1 & 0 & 11 & 0.2888031\\\\\n",
       "\t4 & 6 & Nissan Micra Diesel XV              & Jaipur     & 2013 & 86999 & First  & 23.08 & 1461 &  63.10 & 5 & 20.91683 &  3.50 & 1 & 0 & 0 & 1 & 11 & 1.5833486\\\\\n",
       "\t5 & 7 & Toyota Innova Crysta 2.8 GX AT 8S   & Mumbai     & 2016 & 36000 & First  & 11.36 & 2755 & 171.50 & 8 & 21.00000 & 17.50 & 1 & 0 & 1 & 0 &  8 & 0.4375000\\\\\n",
       "\t6 & 8 & Volkswagen Vento Diesel Comfortline & Pune       & 2013 & 64430 & First  & 20.54 & 1598 & 103.60 & 5 & 20.91683 &  5.20 & 1 & 0 & 0 & 1 & 11 & 1.4288031\\\\\n",
       "\\end{tabular}\n"
      ],
      "text/markdown": [
       "\n",
       "A data.frame: 6 × 18\n",
       "\n",
       "| <!--/--> | X &lt;int&gt; | Name &lt;chr&gt; | Location &lt;chr&gt; | Year &lt;int&gt; | Kilometers_Driven &lt;int&gt; | Owner_Type &lt;chr&gt; | Mileage &lt;dbl&gt; | Engine &lt;dbl&gt; | Power &lt;dbl&gt; | Seats &lt;dbl&gt; | New_Price &lt;dbl&gt; | Price &lt;dbl&gt; | Fuel_TypeDiesel &lt;dbl&gt; | Fuel_TypePetrol &lt;dbl&gt; | TransmissionAutomatic &lt;dbl&gt; | TransmissionManual &lt;dbl&gt; | Age &lt;dbl&gt; | Annual_Value_Loss &lt;dbl&gt; |\n",
       "|---|---|---|---|---|---|---|---|---|---|---|---|---|---|---|---|---|---|---|\n",
       "| 1 | 1 | Hyundai Creta 1.6 CRDi SX Option    | Pune       | 2015 | 41000 | First  | 19.67 | 1582 | 126.20 | 5 | 20.91683 | 12.50 | 1 | 0 | 0 | 1 |  9 | 0.9352038 |\n",
       "| 2 | 3 | Maruti Ertiga VDI                   | Chennai    | 2012 | 87000 | First  | 20.77 | 1248 |  88.76 | 7 | 20.91683 |  6.00 | 1 | 0 | 0 | 1 | 12 | 1.2430695 |\n",
       "| 3 | 4 | Audi A4 New 2.0 TDI Multitronic     | Coimbatore | 2013 | 40670 | Second | 15.20 | 1968 | 140.80 | 5 | 20.91683 | 17.74 | 1 | 0 | 1 | 0 | 11 | 0.2888031 |\n",
       "| 4 | 6 | Nissan Micra Diesel XV              | Jaipur     | 2013 | 86999 | First  | 23.08 | 1461 |  63.10 | 5 | 20.91683 |  3.50 | 1 | 0 | 0 | 1 | 11 | 1.5833486 |\n",
       "| 5 | 7 | Toyota Innova Crysta 2.8 GX AT 8S   | Mumbai     | 2016 | 36000 | First  | 11.36 | 2755 | 171.50 | 8 | 21.00000 | 17.50 | 1 | 0 | 1 | 0 |  8 | 0.4375000 |\n",
       "| 6 | 8 | Volkswagen Vento Diesel Comfortline | Pune       | 2013 | 64430 | First  | 20.54 | 1598 | 103.60 | 5 | 20.91683 |  5.20 | 1 | 0 | 0 | 1 | 11 | 1.4288031 |\n",
       "\n"
      ],
      "text/plain": [
       "  X Name                                Location   Year Kilometers_Driven\n",
       "1 1 Hyundai Creta 1.6 CRDi SX Option    Pune       2015 41000            \n",
       "2 3 Maruti Ertiga VDI                   Chennai    2012 87000            \n",
       "3 4 Audi A4 New 2.0 TDI Multitronic     Coimbatore 2013 40670            \n",
       "4 6 Nissan Micra Diesel XV              Jaipur     2013 86999            \n",
       "5 7 Toyota Innova Crysta 2.8 GX AT 8S   Mumbai     2016 36000            \n",
       "6 8 Volkswagen Vento Diesel Comfortline Pune       2013 64430            \n",
       "  Owner_Type Mileage Engine Power  Seats New_Price Price Fuel_TypeDiesel\n",
       "1 First      19.67   1582   126.20 5     20.91683  12.50 1              \n",
       "2 First      20.77   1248    88.76 7     20.91683   6.00 1              \n",
       "3 Second     15.20   1968   140.80 5     20.91683  17.74 1              \n",
       "4 First      23.08   1461    63.10 5     20.91683   3.50 1              \n",
       "5 First      11.36   2755   171.50 8     21.00000  17.50 1              \n",
       "6 First      20.54   1598   103.60 5     20.91683   5.20 1              \n",
       "  Fuel_TypePetrol TransmissionAutomatic TransmissionManual Age\n",
       "1 0               0                     1                   9 \n",
       "2 0               0                     1                  12 \n",
       "3 0               1                     0                  11 \n",
       "4 0               0                     1                  11 \n",
       "5 0               1                     0                   8 \n",
       "6 0               0                     1                  11 \n",
       "  Annual_Value_Loss\n",
       "1 0.9352038        \n",
       "2 1.2430695        \n",
       "3 0.2888031        \n",
       "4 1.5833486        \n",
       "5 0.4375000        \n",
       "6 1.4288031        "
      ]
     },
     "metadata": {},
     "output_type": "display_data"
    }
   ],
   "source": [
    "df <- df %>%\n",
    "    mutate(Age = (2024 - Year)) %>%\n",
    "    mutate(Annual_Value_Loss = ifelse(Age == 0, NA, (New_Price - Price) / Age))\n",
    "\n",
    "df %>% head"
   ]
  },
  {
   "cell_type": "code",
   "execution_count": 14,
   "id": "f3aedf2a-62fe-40e9-a3ad-2d64cd47a2d5",
   "metadata": {},
   "outputs": [],
   "source": [
    "write.csv(df, 'data_clean/03_added_features.csv')"
   ]
  },
  {
   "cell_type": "markdown",
   "id": "436a6502-c64a-4a01-b362-068a3e9e926e",
   "metadata": {},
   "source": [
    "# Part e: Common Operations\n",
    "\n",
    "Here, the following functions will be used:\n",
    "- select\n",
    "- filter\n",
    "- rename\n",
    "- mutate\n",
    "- arrange\n",
    "- summarize\n",
    "- group_by"
   ]
  },
  {
   "cell_type": "markdown",
   "id": "0f856f38-8883-414e-9345-79d3fab10867",
   "metadata": {},
   "source": [
    "## select\n",
    "\n",
    "This will show the rows for the Engine and Power columns."
   ]
  },
  {
   "cell_type": "code",
   "execution_count": 15,
   "id": "4e80540e-41c6-4064-aa3a-5893d2a11d5f",
   "metadata": {},
   "outputs": [
    {
     "data": {
      "text/html": [
       "<table class=\"dataframe\">\n",
       "<caption>A data.frame: 6 × 2</caption>\n",
       "<thead>\n",
       "\t<tr><th></th><th scope=col>Engine</th><th scope=col>Power</th></tr>\n",
       "\t<tr><th></th><th scope=col>&lt;dbl&gt;</th><th scope=col>&lt;dbl&gt;</th></tr>\n",
       "</thead>\n",
       "<tbody>\n",
       "\t<tr><th scope=row>1</th><td>1582</td><td>126.20</td></tr>\n",
       "\t<tr><th scope=row>2</th><td>1248</td><td> 88.76</td></tr>\n",
       "\t<tr><th scope=row>3</th><td>1968</td><td>140.80</td></tr>\n",
       "\t<tr><th scope=row>4</th><td>1461</td><td> 63.10</td></tr>\n",
       "\t<tr><th scope=row>5</th><td>2755</td><td>171.50</td></tr>\n",
       "\t<tr><th scope=row>6</th><td>1598</td><td>103.60</td></tr>\n",
       "</tbody>\n",
       "</table>\n"
      ],
      "text/latex": [
       "A data.frame: 6 × 2\n",
       "\\begin{tabular}{r|ll}\n",
       "  & Engine & Power\\\\\n",
       "  & <dbl> & <dbl>\\\\\n",
       "\\hline\n",
       "\t1 & 1582 & 126.20\\\\\n",
       "\t2 & 1248 &  88.76\\\\\n",
       "\t3 & 1968 & 140.80\\\\\n",
       "\t4 & 1461 &  63.10\\\\\n",
       "\t5 & 2755 & 171.50\\\\\n",
       "\t6 & 1598 & 103.60\\\\\n",
       "\\end{tabular}\n"
      ],
      "text/markdown": [
       "\n",
       "A data.frame: 6 × 2\n",
       "\n",
       "| <!--/--> | Engine &lt;dbl&gt; | Power &lt;dbl&gt; |\n",
       "|---|---|---|\n",
       "| 1 | 1582 | 126.20 |\n",
       "| 2 | 1248 |  88.76 |\n",
       "| 3 | 1968 | 140.80 |\n",
       "| 4 | 1461 |  63.10 |\n",
       "| 5 | 2755 | 171.50 |\n",
       "| 6 | 1598 | 103.60 |\n",
       "\n"
      ],
      "text/plain": [
       "  Engine Power \n",
       "1 1582   126.20\n",
       "2 1248    88.76\n",
       "3 1968   140.80\n",
       "4 1461    63.10\n",
       "5 2755   171.50\n",
       "6 1598   103.60"
      ]
     },
     "metadata": {},
     "output_type": "display_data"
    }
   ],
   "source": [
    "df %>% select(c('Engine', 'Power')) %>% head"
   ]
  },
  {
   "cell_type": "markdown",
   "id": "79579c13-3025-4379-b2d1-42522ea2742b",
   "metadata": {},
   "source": [
    "## filter\n",
    "\n",
    "This shows all cars that are made after 2015 and have less than 40,000 kilometers driven."
   ]
  },
  {
   "cell_type": "code",
   "execution_count": 16,
   "id": "f4fc24a8-a59e-4015-b33a-f38e9d1c2b0f",
   "metadata": {},
   "outputs": [
    {
     "data": {
      "text/html": [
       "<table class=\"dataframe\">\n",
       "<caption>A data.frame: 6 × 18</caption>\n",
       "<thead>\n",
       "\t<tr><th></th><th scope=col>X</th><th scope=col>Name</th><th scope=col>Location</th><th scope=col>Year</th><th scope=col>Kilometers_Driven</th><th scope=col>Owner_Type</th><th scope=col>Mileage</th><th scope=col>Engine</th><th scope=col>Power</th><th scope=col>Seats</th><th scope=col>New_Price</th><th scope=col>Price</th><th scope=col>Fuel_TypeDiesel</th><th scope=col>Fuel_TypePetrol</th><th scope=col>TransmissionAutomatic</th><th scope=col>TransmissionManual</th><th scope=col>Age</th><th scope=col>Annual_Value_Loss</th></tr>\n",
       "\t<tr><th></th><th scope=col>&lt;int&gt;</th><th scope=col>&lt;chr&gt;</th><th scope=col>&lt;chr&gt;</th><th scope=col>&lt;int&gt;</th><th scope=col>&lt;int&gt;</th><th scope=col>&lt;chr&gt;</th><th scope=col>&lt;dbl&gt;</th><th scope=col>&lt;dbl&gt;</th><th scope=col>&lt;dbl&gt;</th><th scope=col>&lt;dbl&gt;</th><th scope=col>&lt;dbl&gt;</th><th scope=col>&lt;dbl&gt;</th><th scope=col>&lt;dbl&gt;</th><th scope=col>&lt;dbl&gt;</th><th scope=col>&lt;dbl&gt;</th><th scope=col>&lt;dbl&gt;</th><th scope=col>&lt;dbl&gt;</th><th scope=col>&lt;dbl&gt;</th></tr>\n",
       "</thead>\n",
       "<tbody>\n",
       "\t<tr><th scope=row>1</th><td> 7</td><td>Toyota Innova Crysta 2.8 GX AT 8S        </td><td>Mumbai    </td><td>2016</td><td>36000</td><td>First</td><td>11.36</td><td>2755</td><td>171.50</td><td>8</td><td>21.00000</td><td>17.50</td><td>1</td><td>0</td><td>1</td><td>0</td><td>8</td><td> 0.43750000</td></tr>\n",
       "\t<tr><th scope=row>2</th><td>10</td><td>Maruti Ciaz Zeta                         </td><td>Kochi     </td><td>2018</td><td>25692</td><td>First</td><td>21.56</td><td>1462</td><td>103.25</td><td>5</td><td>10.65000</td><td> 9.95</td><td>0</td><td>1</td><td>0</td><td>1</td><td>6</td><td> 0.11666667</td></tr>\n",
       "\t<tr><th scope=row>3</th><td>17</td><td>Maruti Swift DDiS VDI                    </td><td>Jaipur    </td><td>2017</td><td>25000</td><td>First</td><td>28.40</td><td>1248</td><td> 74.00</td><td>5</td><td>20.91683</td><td> 5.99</td><td>1</td><td>0</td><td>0</td><td>1</td><td>7</td><td> 2.13240488</td></tr>\n",
       "\t<tr><th scope=row>4</th><td>28</td><td>Honda WRV i-VTEC VX                      </td><td>Kochi     </td><td>2018</td><td>37430</td><td>First</td><td>17.50</td><td>1199</td><td> 88.70</td><td>5</td><td>10.57000</td><td> 9.90</td><td>0</td><td>1</td><td>0</td><td>1</td><td>6</td><td> 0.11166667</td></tr>\n",
       "\t<tr><th scope=row>5</th><td>42</td><td>Mahindra KUV 100 mFALCON D75 K8 Dual Tone</td><td>Coimbatore</td><td>2017</td><td>22033</td><td>First</td><td>25.32</td><td>1198</td><td> 77.00</td><td>6</td><td>20.91683</td><td> 5.58</td><td>1</td><td>0</td><td>0</td><td>1</td><td>7</td><td> 2.19097631</td></tr>\n",
       "\t<tr><th scope=row>6</th><td>50</td><td>Audi A4 2.0 TDI 177 Bhp Premium Plus     </td><td>Kochi     </td><td>2015</td><td>13648</td><td>First</td><td>17.11</td><td>1968</td><td>174.33</td><td>5</td><td>20.91683</td><td>21.43</td><td>1</td><td>0</td><td>1</td><td>0</td><td>9</td><td>-0.05701843</td></tr>\n",
       "</tbody>\n",
       "</table>\n"
      ],
      "text/latex": [
       "A data.frame: 6 × 18\n",
       "\\begin{tabular}{r|llllllllllllllllll}\n",
       "  & X & Name & Location & Year & Kilometers\\_Driven & Owner\\_Type & Mileage & Engine & Power & Seats & New\\_Price & Price & Fuel\\_TypeDiesel & Fuel\\_TypePetrol & TransmissionAutomatic & TransmissionManual & Age & Annual\\_Value\\_Loss\\\\\n",
       "  & <int> & <chr> & <chr> & <int> & <int> & <chr> & <dbl> & <dbl> & <dbl> & <dbl> & <dbl> & <dbl> & <dbl> & <dbl> & <dbl> & <dbl> & <dbl> & <dbl>\\\\\n",
       "\\hline\n",
       "\t1 &  7 & Toyota Innova Crysta 2.8 GX AT 8S         & Mumbai     & 2016 & 36000 & First & 11.36 & 2755 & 171.50 & 8 & 21.00000 & 17.50 & 1 & 0 & 1 & 0 & 8 &  0.43750000\\\\\n",
       "\t2 & 10 & Maruti Ciaz Zeta                          & Kochi      & 2018 & 25692 & First & 21.56 & 1462 & 103.25 & 5 & 10.65000 &  9.95 & 0 & 1 & 0 & 1 & 6 &  0.11666667\\\\\n",
       "\t3 & 17 & Maruti Swift DDiS VDI                     & Jaipur     & 2017 & 25000 & First & 28.40 & 1248 &  74.00 & 5 & 20.91683 &  5.99 & 1 & 0 & 0 & 1 & 7 &  2.13240488\\\\\n",
       "\t4 & 28 & Honda WRV i-VTEC VX                       & Kochi      & 2018 & 37430 & First & 17.50 & 1199 &  88.70 & 5 & 10.57000 &  9.90 & 0 & 1 & 0 & 1 & 6 &  0.11166667\\\\\n",
       "\t5 & 42 & Mahindra KUV 100 mFALCON D75 K8 Dual Tone & Coimbatore & 2017 & 22033 & First & 25.32 & 1198 &  77.00 & 6 & 20.91683 &  5.58 & 1 & 0 & 0 & 1 & 7 &  2.19097631\\\\\n",
       "\t6 & 50 & Audi A4 2.0 TDI 177 Bhp Premium Plus      & Kochi      & 2015 & 13648 & First & 17.11 & 1968 & 174.33 & 5 & 20.91683 & 21.43 & 1 & 0 & 1 & 0 & 9 & -0.05701843\\\\\n",
       "\\end{tabular}\n"
      ],
      "text/markdown": [
       "\n",
       "A data.frame: 6 × 18\n",
       "\n",
       "| <!--/--> | X &lt;int&gt; | Name &lt;chr&gt; | Location &lt;chr&gt; | Year &lt;int&gt; | Kilometers_Driven &lt;int&gt; | Owner_Type &lt;chr&gt; | Mileage &lt;dbl&gt; | Engine &lt;dbl&gt; | Power &lt;dbl&gt; | Seats &lt;dbl&gt; | New_Price &lt;dbl&gt; | Price &lt;dbl&gt; | Fuel_TypeDiesel &lt;dbl&gt; | Fuel_TypePetrol &lt;dbl&gt; | TransmissionAutomatic &lt;dbl&gt; | TransmissionManual &lt;dbl&gt; | Age &lt;dbl&gt; | Annual_Value_Loss &lt;dbl&gt; |\n",
       "|---|---|---|---|---|---|---|---|---|---|---|---|---|---|---|---|---|---|---|\n",
       "| 1 |  7 | Toyota Innova Crysta 2.8 GX AT 8S         | Mumbai     | 2016 | 36000 | First | 11.36 | 2755 | 171.50 | 8 | 21.00000 | 17.50 | 1 | 0 | 1 | 0 | 8 |  0.43750000 |\n",
       "| 2 | 10 | Maruti Ciaz Zeta                          | Kochi      | 2018 | 25692 | First | 21.56 | 1462 | 103.25 | 5 | 10.65000 |  9.95 | 0 | 1 | 0 | 1 | 6 |  0.11666667 |\n",
       "| 3 | 17 | Maruti Swift DDiS VDI                     | Jaipur     | 2017 | 25000 | First | 28.40 | 1248 |  74.00 | 5 | 20.91683 |  5.99 | 1 | 0 | 0 | 1 | 7 |  2.13240488 |\n",
       "| 4 | 28 | Honda WRV i-VTEC VX                       | Kochi      | 2018 | 37430 | First | 17.50 | 1199 |  88.70 | 5 | 10.57000 |  9.90 | 0 | 1 | 0 | 1 | 6 |  0.11166667 |\n",
       "| 5 | 42 | Mahindra KUV 100 mFALCON D75 K8 Dual Tone | Coimbatore | 2017 | 22033 | First | 25.32 | 1198 |  77.00 | 6 | 20.91683 |  5.58 | 1 | 0 | 0 | 1 | 7 |  2.19097631 |\n",
       "| 6 | 50 | Audi A4 2.0 TDI 177 Bhp Premium Plus      | Kochi      | 2015 | 13648 | First | 17.11 | 1968 | 174.33 | 5 | 20.91683 | 21.43 | 1 | 0 | 1 | 0 | 9 | -0.05701843 |\n",
       "\n"
      ],
      "text/plain": [
       "  X  Name                                      Location   Year\n",
       "1  7 Toyota Innova Crysta 2.8 GX AT 8S         Mumbai     2016\n",
       "2 10 Maruti Ciaz Zeta                          Kochi      2018\n",
       "3 17 Maruti Swift DDiS VDI                     Jaipur     2017\n",
       "4 28 Honda WRV i-VTEC VX                       Kochi      2018\n",
       "5 42 Mahindra KUV 100 mFALCON D75 K8 Dual Tone Coimbatore 2017\n",
       "6 50 Audi A4 2.0 TDI 177 Bhp Premium Plus      Kochi      2015\n",
       "  Kilometers_Driven Owner_Type Mileage Engine Power  Seats New_Price Price\n",
       "1 36000             First      11.36   2755   171.50 8     21.00000  17.50\n",
       "2 25692             First      21.56   1462   103.25 5     10.65000   9.95\n",
       "3 25000             First      28.40   1248    74.00 5     20.91683   5.99\n",
       "4 37430             First      17.50   1199    88.70 5     10.57000   9.90\n",
       "5 22033             First      25.32   1198    77.00 6     20.91683   5.58\n",
       "6 13648             First      17.11   1968   174.33 5     20.91683  21.43\n",
       "  Fuel_TypeDiesel Fuel_TypePetrol TransmissionAutomatic TransmissionManual Age\n",
       "1 1               0               1                     0                  8  \n",
       "2 0               1               0                     1                  6  \n",
       "3 1               0               0                     1                  7  \n",
       "4 0               1               0                     1                  6  \n",
       "5 1               0               0                     1                  7  \n",
       "6 1               0               1                     0                  9  \n",
       "  Annual_Value_Loss\n",
       "1  0.43750000      \n",
       "2  0.11666667      \n",
       "3  2.13240488      \n",
       "4  0.11166667      \n",
       "5  2.19097631      \n",
       "6 -0.05701843      "
      ]
     },
     "metadata": {},
     "output_type": "display_data"
    }
   ],
   "source": [
    "df %>% filter(Year >= 2015 & Kilometers_Driven < 40000) %>% head"
   ]
  },
  {
   "cell_type": "markdown",
   "id": "83a711c7-57e6-4434-a65a-2e7d57007fe3",
   "metadata": {},
   "source": [
    "## rename\n",
    "\n",
    "Here, we'll rename the Fuel_Type and Transmission one-hot encoded features created earlier by adding an underscore before the classification."
   ]
  },
  {
   "cell_type": "code",
   "execution_count": 17,
   "id": "4e7401da-6048-4c37-8b4c-21431fa2080c",
   "metadata": {},
   "outputs": [
    {
     "data": {
      "text/html": [
       "<table class=\"dataframe\">\n",
       "<caption>A data.frame: 6 × 18</caption>\n",
       "<thead>\n",
       "\t<tr><th></th><th scope=col>X</th><th scope=col>Name</th><th scope=col>Location</th><th scope=col>Year</th><th scope=col>Kilometers_Driven</th><th scope=col>Owner_Type</th><th scope=col>Mileage</th><th scope=col>Engine</th><th scope=col>Power</th><th scope=col>Seats</th><th scope=col>New_Price</th><th scope=col>Price</th><th scope=col>Fuel_Type_Diesel</th><th scope=col>Fuel_Type_Petrol</th><th scope=col>Transmission_Automatic</th><th scope=col>Transmission_Manual</th><th scope=col>Age</th><th scope=col>Annual_Value_Loss</th></tr>\n",
       "\t<tr><th></th><th scope=col>&lt;int&gt;</th><th scope=col>&lt;chr&gt;</th><th scope=col>&lt;chr&gt;</th><th scope=col>&lt;int&gt;</th><th scope=col>&lt;int&gt;</th><th scope=col>&lt;chr&gt;</th><th scope=col>&lt;dbl&gt;</th><th scope=col>&lt;dbl&gt;</th><th scope=col>&lt;dbl&gt;</th><th scope=col>&lt;dbl&gt;</th><th scope=col>&lt;dbl&gt;</th><th scope=col>&lt;dbl&gt;</th><th scope=col>&lt;dbl&gt;</th><th scope=col>&lt;dbl&gt;</th><th scope=col>&lt;dbl&gt;</th><th scope=col>&lt;dbl&gt;</th><th scope=col>&lt;dbl&gt;</th><th scope=col>&lt;dbl&gt;</th></tr>\n",
       "</thead>\n",
       "<tbody>\n",
       "\t<tr><th scope=row>1</th><td>1</td><td>Hyundai Creta 1.6 CRDi SX Option   </td><td>Pune      </td><td>2015</td><td>41000</td><td>First </td><td>19.67</td><td>1582</td><td>126.20</td><td>5</td><td>20.91683</td><td>12.50</td><td>1</td><td>0</td><td>0</td><td>1</td><td> 9</td><td>0.9352038</td></tr>\n",
       "\t<tr><th scope=row>2</th><td>3</td><td>Maruti Ertiga VDI                  </td><td>Chennai   </td><td>2012</td><td>87000</td><td>First </td><td>20.77</td><td>1248</td><td> 88.76</td><td>7</td><td>20.91683</td><td> 6.00</td><td>1</td><td>0</td><td>0</td><td>1</td><td>12</td><td>1.2430695</td></tr>\n",
       "\t<tr><th scope=row>3</th><td>4</td><td>Audi A4 New 2.0 TDI Multitronic    </td><td>Coimbatore</td><td>2013</td><td>40670</td><td>Second</td><td>15.20</td><td>1968</td><td>140.80</td><td>5</td><td>20.91683</td><td>17.74</td><td>1</td><td>0</td><td>1</td><td>0</td><td>11</td><td>0.2888031</td></tr>\n",
       "\t<tr><th scope=row>4</th><td>6</td><td>Nissan Micra Diesel XV             </td><td>Jaipur    </td><td>2013</td><td>86999</td><td>First </td><td>23.08</td><td>1461</td><td> 63.10</td><td>5</td><td>20.91683</td><td> 3.50</td><td>1</td><td>0</td><td>0</td><td>1</td><td>11</td><td>1.5833486</td></tr>\n",
       "\t<tr><th scope=row>5</th><td>7</td><td>Toyota Innova Crysta 2.8 GX AT 8S  </td><td>Mumbai    </td><td>2016</td><td>36000</td><td>First </td><td>11.36</td><td>2755</td><td>171.50</td><td>8</td><td>21.00000</td><td>17.50</td><td>1</td><td>0</td><td>1</td><td>0</td><td> 8</td><td>0.4375000</td></tr>\n",
       "\t<tr><th scope=row>6</th><td>8</td><td>Volkswagen Vento Diesel Comfortline</td><td>Pune      </td><td>2013</td><td>64430</td><td>First </td><td>20.54</td><td>1598</td><td>103.60</td><td>5</td><td>20.91683</td><td> 5.20</td><td>1</td><td>0</td><td>0</td><td>1</td><td>11</td><td>1.4288031</td></tr>\n",
       "</tbody>\n",
       "</table>\n"
      ],
      "text/latex": [
       "A data.frame: 6 × 18\n",
       "\\begin{tabular}{r|llllllllllllllllll}\n",
       "  & X & Name & Location & Year & Kilometers\\_Driven & Owner\\_Type & Mileage & Engine & Power & Seats & New\\_Price & Price & Fuel\\_Type\\_Diesel & Fuel\\_Type\\_Petrol & Transmission\\_Automatic & Transmission\\_Manual & Age & Annual\\_Value\\_Loss\\\\\n",
       "  & <int> & <chr> & <chr> & <int> & <int> & <chr> & <dbl> & <dbl> & <dbl> & <dbl> & <dbl> & <dbl> & <dbl> & <dbl> & <dbl> & <dbl> & <dbl> & <dbl>\\\\\n",
       "\\hline\n",
       "\t1 & 1 & Hyundai Creta 1.6 CRDi SX Option    & Pune       & 2015 & 41000 & First  & 19.67 & 1582 & 126.20 & 5 & 20.91683 & 12.50 & 1 & 0 & 0 & 1 &  9 & 0.9352038\\\\\n",
       "\t2 & 3 & Maruti Ertiga VDI                   & Chennai    & 2012 & 87000 & First  & 20.77 & 1248 &  88.76 & 7 & 20.91683 &  6.00 & 1 & 0 & 0 & 1 & 12 & 1.2430695\\\\\n",
       "\t3 & 4 & Audi A4 New 2.0 TDI Multitronic     & Coimbatore & 2013 & 40670 & Second & 15.20 & 1968 & 140.80 & 5 & 20.91683 & 17.74 & 1 & 0 & 1 & 0 & 11 & 0.2888031\\\\\n",
       "\t4 & 6 & Nissan Micra Diesel XV              & Jaipur     & 2013 & 86999 & First  & 23.08 & 1461 &  63.10 & 5 & 20.91683 &  3.50 & 1 & 0 & 0 & 1 & 11 & 1.5833486\\\\\n",
       "\t5 & 7 & Toyota Innova Crysta 2.8 GX AT 8S   & Mumbai     & 2016 & 36000 & First  & 11.36 & 2755 & 171.50 & 8 & 21.00000 & 17.50 & 1 & 0 & 1 & 0 &  8 & 0.4375000\\\\\n",
       "\t6 & 8 & Volkswagen Vento Diesel Comfortline & Pune       & 2013 & 64430 & First  & 20.54 & 1598 & 103.60 & 5 & 20.91683 &  5.20 & 1 & 0 & 0 & 1 & 11 & 1.4288031\\\\\n",
       "\\end{tabular}\n"
      ],
      "text/markdown": [
       "\n",
       "A data.frame: 6 × 18\n",
       "\n",
       "| <!--/--> | X &lt;int&gt; | Name &lt;chr&gt; | Location &lt;chr&gt; | Year &lt;int&gt; | Kilometers_Driven &lt;int&gt; | Owner_Type &lt;chr&gt; | Mileage &lt;dbl&gt; | Engine &lt;dbl&gt; | Power &lt;dbl&gt; | Seats &lt;dbl&gt; | New_Price &lt;dbl&gt; | Price &lt;dbl&gt; | Fuel_Type_Diesel &lt;dbl&gt; | Fuel_Type_Petrol &lt;dbl&gt; | Transmission_Automatic &lt;dbl&gt; | Transmission_Manual &lt;dbl&gt; | Age &lt;dbl&gt; | Annual_Value_Loss &lt;dbl&gt; |\n",
       "|---|---|---|---|---|---|---|---|---|---|---|---|---|---|---|---|---|---|---|\n",
       "| 1 | 1 | Hyundai Creta 1.6 CRDi SX Option    | Pune       | 2015 | 41000 | First  | 19.67 | 1582 | 126.20 | 5 | 20.91683 | 12.50 | 1 | 0 | 0 | 1 |  9 | 0.9352038 |\n",
       "| 2 | 3 | Maruti Ertiga VDI                   | Chennai    | 2012 | 87000 | First  | 20.77 | 1248 |  88.76 | 7 | 20.91683 |  6.00 | 1 | 0 | 0 | 1 | 12 | 1.2430695 |\n",
       "| 3 | 4 | Audi A4 New 2.0 TDI Multitronic     | Coimbatore | 2013 | 40670 | Second | 15.20 | 1968 | 140.80 | 5 | 20.91683 | 17.74 | 1 | 0 | 1 | 0 | 11 | 0.2888031 |\n",
       "| 4 | 6 | Nissan Micra Diesel XV              | Jaipur     | 2013 | 86999 | First  | 23.08 | 1461 |  63.10 | 5 | 20.91683 |  3.50 | 1 | 0 | 0 | 1 | 11 | 1.5833486 |\n",
       "| 5 | 7 | Toyota Innova Crysta 2.8 GX AT 8S   | Mumbai     | 2016 | 36000 | First  | 11.36 | 2755 | 171.50 | 8 | 21.00000 | 17.50 | 1 | 0 | 1 | 0 |  8 | 0.4375000 |\n",
       "| 6 | 8 | Volkswagen Vento Diesel Comfortline | Pune       | 2013 | 64430 | First  | 20.54 | 1598 | 103.60 | 5 | 20.91683 |  5.20 | 1 | 0 | 0 | 1 | 11 | 1.4288031 |\n",
       "\n"
      ],
      "text/plain": [
       "  X Name                                Location   Year Kilometers_Driven\n",
       "1 1 Hyundai Creta 1.6 CRDi SX Option    Pune       2015 41000            \n",
       "2 3 Maruti Ertiga VDI                   Chennai    2012 87000            \n",
       "3 4 Audi A4 New 2.0 TDI Multitronic     Coimbatore 2013 40670            \n",
       "4 6 Nissan Micra Diesel XV              Jaipur     2013 86999            \n",
       "5 7 Toyota Innova Crysta 2.8 GX AT 8S   Mumbai     2016 36000            \n",
       "6 8 Volkswagen Vento Diesel Comfortline Pune       2013 64430            \n",
       "  Owner_Type Mileage Engine Power  Seats New_Price Price Fuel_Type_Diesel\n",
       "1 First      19.67   1582   126.20 5     20.91683  12.50 1               \n",
       "2 First      20.77   1248    88.76 7     20.91683   6.00 1               \n",
       "3 Second     15.20   1968   140.80 5     20.91683  17.74 1               \n",
       "4 First      23.08   1461    63.10 5     20.91683   3.50 1               \n",
       "5 First      11.36   2755   171.50 8     21.00000  17.50 1               \n",
       "6 First      20.54   1598   103.60 5     20.91683   5.20 1               \n",
       "  Fuel_Type_Petrol Transmission_Automatic Transmission_Manual Age\n",
       "1 0                0                      1                    9 \n",
       "2 0                0                      1                   12 \n",
       "3 0                1                      0                   11 \n",
       "4 0                0                      1                   11 \n",
       "5 0                1                      0                    8 \n",
       "6 0                0                      1                   11 \n",
       "  Annual_Value_Loss\n",
       "1 0.9352038        \n",
       "2 1.2430695        \n",
       "3 0.2888031        \n",
       "4 1.5833486        \n",
       "5 0.4375000        \n",
       "6 1.4288031        "
      ]
     },
     "metadata": {},
     "output_type": "display_data"
    }
   ],
   "source": [
    "lookup <- c(Fuel_Type_Diesel = \"Fuel_TypeDiesel\",\n",
    "            Fuel_Type_Petrol = \"Fuel_TypePetrol\",\n",
    "            Transmission_Automatic = \"TransmissionAutomatic\",\n",
    "            Transmission_Manual = \"TransmissionManual\")\n",
    "\n",
    "df %>% rename(all_of(lookup)) %>% head"
   ]
  },
  {
   "cell_type": "markdown",
   "id": "8cd82f90-c610-4e7a-999c-06c970a78905",
   "metadata": {},
   "source": [
    "## mutate\n",
    "\n",
    "This section adds a new feature Miles_Driven, based on the Kilometers_Driven feature times a conversion factor."
   ]
  },
  {
   "cell_type": "code",
   "execution_count": 18,
   "id": "4072fc67-3f51-41c1-88e2-a9db086438cc",
   "metadata": {},
   "outputs": [
    {
     "data": {
      "text/html": [
       "<table class=\"dataframe\">\n",
       "<caption>A data.frame: 6 × 19</caption>\n",
       "<thead>\n",
       "\t<tr><th></th><th scope=col>X</th><th scope=col>Name</th><th scope=col>Location</th><th scope=col>Year</th><th scope=col>Kilometers_Driven</th><th scope=col>Owner_Type</th><th scope=col>Mileage</th><th scope=col>Engine</th><th scope=col>Power</th><th scope=col>Seats</th><th scope=col>New_Price</th><th scope=col>Price</th><th scope=col>Fuel_TypeDiesel</th><th scope=col>Fuel_TypePetrol</th><th scope=col>TransmissionAutomatic</th><th scope=col>TransmissionManual</th><th scope=col>Age</th><th scope=col>Annual_Value_Loss</th><th scope=col>Miles_Driven</th></tr>\n",
       "\t<tr><th></th><th scope=col>&lt;int&gt;</th><th scope=col>&lt;chr&gt;</th><th scope=col>&lt;chr&gt;</th><th scope=col>&lt;int&gt;</th><th scope=col>&lt;int&gt;</th><th scope=col>&lt;chr&gt;</th><th scope=col>&lt;dbl&gt;</th><th scope=col>&lt;dbl&gt;</th><th scope=col>&lt;dbl&gt;</th><th scope=col>&lt;dbl&gt;</th><th scope=col>&lt;dbl&gt;</th><th scope=col>&lt;dbl&gt;</th><th scope=col>&lt;dbl&gt;</th><th scope=col>&lt;dbl&gt;</th><th scope=col>&lt;dbl&gt;</th><th scope=col>&lt;dbl&gt;</th><th scope=col>&lt;dbl&gt;</th><th scope=col>&lt;dbl&gt;</th><th scope=col>&lt;dbl&gt;</th></tr>\n",
       "</thead>\n",
       "<tbody>\n",
       "\t<tr><th scope=row>1</th><td>1</td><td>Hyundai Creta 1.6 CRDi SX Option   </td><td>Pune      </td><td>2015</td><td>41000</td><td>First </td><td>19.67</td><td>1582</td><td>126.20</td><td>5</td><td>20.91683</td><td>12.50</td><td>1</td><td>0</td><td>0</td><td>1</td><td> 9</td><td>0.9352038</td><td>25476.22</td></tr>\n",
       "\t<tr><th scope=row>2</th><td>3</td><td>Maruti Ertiga VDI                  </td><td>Chennai   </td><td>2012</td><td>87000</td><td>First </td><td>20.77</td><td>1248</td><td> 88.76</td><td>7</td><td>20.91683</td><td> 6.00</td><td>1</td><td>0</td><td>0</td><td>1</td><td>12</td><td>1.2430695</td><td>54059.29</td></tr>\n",
       "\t<tr><th scope=row>3</th><td>4</td><td>Audi A4 New 2.0 TDI Multitronic    </td><td>Coimbatore</td><td>2013</td><td>40670</td><td>Second</td><td>15.20</td><td>1968</td><td>140.80</td><td>5</td><td>20.91683</td><td>17.74</td><td>1</td><td>0</td><td>1</td><td>0</td><td>11</td><td>0.2888031</td><td>25271.17</td></tr>\n",
       "\t<tr><th scope=row>4</th><td>6</td><td>Nissan Micra Diesel XV             </td><td>Jaipur    </td><td>2013</td><td>86999</td><td>First </td><td>23.08</td><td>1461</td><td> 63.10</td><td>5</td><td>20.91683</td><td> 3.50</td><td>1</td><td>0</td><td>0</td><td>1</td><td>11</td><td>1.5833486</td><td>54058.67</td></tr>\n",
       "\t<tr><th scope=row>5</th><td>7</td><td>Toyota Innova Crysta 2.8 GX AT 8S  </td><td>Mumbai    </td><td>2016</td><td>36000</td><td>First </td><td>11.36</td><td>2755</td><td>171.50</td><td>8</td><td>21.00000</td><td>17.50</td><td>1</td><td>0</td><td>1</td><td>0</td><td> 8</td><td>0.4375000</td><td>22369.36</td></tr>\n",
       "\t<tr><th scope=row>6</th><td>8</td><td>Volkswagen Vento Diesel Comfortline</td><td>Pune      </td><td>2013</td><td>64430</td><td>First </td><td>20.54</td><td>1598</td><td>103.60</td><td>5</td><td>20.91683</td><td> 5.20</td><td>1</td><td>0</td><td>0</td><td>1</td><td>11</td><td>1.4288031</td><td>40034.95</td></tr>\n",
       "</tbody>\n",
       "</table>\n"
      ],
      "text/latex": [
       "A data.frame: 6 × 19\n",
       "\\begin{tabular}{r|lllllllllllllllllll}\n",
       "  & X & Name & Location & Year & Kilometers\\_Driven & Owner\\_Type & Mileage & Engine & Power & Seats & New\\_Price & Price & Fuel\\_TypeDiesel & Fuel\\_TypePetrol & TransmissionAutomatic & TransmissionManual & Age & Annual\\_Value\\_Loss & Miles\\_Driven\\\\\n",
       "  & <int> & <chr> & <chr> & <int> & <int> & <chr> & <dbl> & <dbl> & <dbl> & <dbl> & <dbl> & <dbl> & <dbl> & <dbl> & <dbl> & <dbl> & <dbl> & <dbl> & <dbl>\\\\\n",
       "\\hline\n",
       "\t1 & 1 & Hyundai Creta 1.6 CRDi SX Option    & Pune       & 2015 & 41000 & First  & 19.67 & 1582 & 126.20 & 5 & 20.91683 & 12.50 & 1 & 0 & 0 & 1 &  9 & 0.9352038 & 25476.22\\\\\n",
       "\t2 & 3 & Maruti Ertiga VDI                   & Chennai    & 2012 & 87000 & First  & 20.77 & 1248 &  88.76 & 7 & 20.91683 &  6.00 & 1 & 0 & 0 & 1 & 12 & 1.2430695 & 54059.29\\\\\n",
       "\t3 & 4 & Audi A4 New 2.0 TDI Multitronic     & Coimbatore & 2013 & 40670 & Second & 15.20 & 1968 & 140.80 & 5 & 20.91683 & 17.74 & 1 & 0 & 1 & 0 & 11 & 0.2888031 & 25271.17\\\\\n",
       "\t4 & 6 & Nissan Micra Diesel XV              & Jaipur     & 2013 & 86999 & First  & 23.08 & 1461 &  63.10 & 5 & 20.91683 &  3.50 & 1 & 0 & 0 & 1 & 11 & 1.5833486 & 54058.67\\\\\n",
       "\t5 & 7 & Toyota Innova Crysta 2.8 GX AT 8S   & Mumbai     & 2016 & 36000 & First  & 11.36 & 2755 & 171.50 & 8 & 21.00000 & 17.50 & 1 & 0 & 1 & 0 &  8 & 0.4375000 & 22369.36\\\\\n",
       "\t6 & 8 & Volkswagen Vento Diesel Comfortline & Pune       & 2013 & 64430 & First  & 20.54 & 1598 & 103.60 & 5 & 20.91683 &  5.20 & 1 & 0 & 0 & 1 & 11 & 1.4288031 & 40034.95\\\\\n",
       "\\end{tabular}\n"
      ],
      "text/markdown": [
       "\n",
       "A data.frame: 6 × 19\n",
       "\n",
       "| <!--/--> | X &lt;int&gt; | Name &lt;chr&gt; | Location &lt;chr&gt; | Year &lt;int&gt; | Kilometers_Driven &lt;int&gt; | Owner_Type &lt;chr&gt; | Mileage &lt;dbl&gt; | Engine &lt;dbl&gt; | Power &lt;dbl&gt; | Seats &lt;dbl&gt; | New_Price &lt;dbl&gt; | Price &lt;dbl&gt; | Fuel_TypeDiesel &lt;dbl&gt; | Fuel_TypePetrol &lt;dbl&gt; | TransmissionAutomatic &lt;dbl&gt; | TransmissionManual &lt;dbl&gt; | Age &lt;dbl&gt; | Annual_Value_Loss &lt;dbl&gt; | Miles_Driven &lt;dbl&gt; |\n",
       "|---|---|---|---|---|---|---|---|---|---|---|---|---|---|---|---|---|---|---|---|\n",
       "| 1 | 1 | Hyundai Creta 1.6 CRDi SX Option    | Pune       | 2015 | 41000 | First  | 19.67 | 1582 | 126.20 | 5 | 20.91683 | 12.50 | 1 | 0 | 0 | 1 |  9 | 0.9352038 | 25476.22 |\n",
       "| 2 | 3 | Maruti Ertiga VDI                   | Chennai    | 2012 | 87000 | First  | 20.77 | 1248 |  88.76 | 7 | 20.91683 |  6.00 | 1 | 0 | 0 | 1 | 12 | 1.2430695 | 54059.29 |\n",
       "| 3 | 4 | Audi A4 New 2.0 TDI Multitronic     | Coimbatore | 2013 | 40670 | Second | 15.20 | 1968 | 140.80 | 5 | 20.91683 | 17.74 | 1 | 0 | 1 | 0 | 11 | 0.2888031 | 25271.17 |\n",
       "| 4 | 6 | Nissan Micra Diesel XV              | Jaipur     | 2013 | 86999 | First  | 23.08 | 1461 |  63.10 | 5 | 20.91683 |  3.50 | 1 | 0 | 0 | 1 | 11 | 1.5833486 | 54058.67 |\n",
       "| 5 | 7 | Toyota Innova Crysta 2.8 GX AT 8S   | Mumbai     | 2016 | 36000 | First  | 11.36 | 2755 | 171.50 | 8 | 21.00000 | 17.50 | 1 | 0 | 1 | 0 |  8 | 0.4375000 | 22369.36 |\n",
       "| 6 | 8 | Volkswagen Vento Diesel Comfortline | Pune       | 2013 | 64430 | First  | 20.54 | 1598 | 103.60 | 5 | 20.91683 |  5.20 | 1 | 0 | 0 | 1 | 11 | 1.4288031 | 40034.95 |\n",
       "\n"
      ],
      "text/plain": [
       "  X Name                                Location   Year Kilometers_Driven\n",
       "1 1 Hyundai Creta 1.6 CRDi SX Option    Pune       2015 41000            \n",
       "2 3 Maruti Ertiga VDI                   Chennai    2012 87000            \n",
       "3 4 Audi A4 New 2.0 TDI Multitronic     Coimbatore 2013 40670            \n",
       "4 6 Nissan Micra Diesel XV              Jaipur     2013 86999            \n",
       "5 7 Toyota Innova Crysta 2.8 GX AT 8S   Mumbai     2016 36000            \n",
       "6 8 Volkswagen Vento Diesel Comfortline Pune       2013 64430            \n",
       "  Owner_Type Mileage Engine Power  Seats New_Price Price Fuel_TypeDiesel\n",
       "1 First      19.67   1582   126.20 5     20.91683  12.50 1              \n",
       "2 First      20.77   1248    88.76 7     20.91683   6.00 1              \n",
       "3 Second     15.20   1968   140.80 5     20.91683  17.74 1              \n",
       "4 First      23.08   1461    63.10 5     20.91683   3.50 1              \n",
       "5 First      11.36   2755   171.50 8     21.00000  17.50 1              \n",
       "6 First      20.54   1598   103.60 5     20.91683   5.20 1              \n",
       "  Fuel_TypePetrol TransmissionAutomatic TransmissionManual Age\n",
       "1 0               0                     1                   9 \n",
       "2 0               0                     1                  12 \n",
       "3 0               1                     0                  11 \n",
       "4 0               0                     1                  11 \n",
       "5 0               1                     0                   8 \n",
       "6 0               0                     1                  11 \n",
       "  Annual_Value_Loss Miles_Driven\n",
       "1 0.9352038         25476.22    \n",
       "2 1.2430695         54059.29    \n",
       "3 0.2888031         25271.17    \n",
       "4 1.5833486         54058.67    \n",
       "5 0.4375000         22369.36    \n",
       "6 1.4288031         40034.95    "
      ]
     },
     "metadata": {},
     "output_type": "display_data"
    }
   ],
   "source": [
    "df %>% mutate(Miles_Driven = Kilometers_Driven * 0.6213711922) %>% head"
   ]
  },
  {
   "cell_type": "markdown",
   "id": "02bd80a2-a92e-476a-adc8-fab44b1acd93",
   "metadata": {},
   "source": [
    "## arrange\n",
    "\n",
    "Here, we arrange the rows such that Price is sorted in ascending order (lowest prices first), and in case of a tie in the Price, Year will be used in descending order (newest cars first)."
   ]
  },
  {
   "cell_type": "code",
   "execution_count": 19,
   "id": "4376352f-337f-4204-9b44-a0591e879941",
   "metadata": {},
   "outputs": [
    {
     "data": {
      "text/html": [
       "<table class=\"dataframe\">\n",
       "<caption>A data.frame: 6 × 18</caption>\n",
       "<thead>\n",
       "\t<tr><th></th><th scope=col>X</th><th scope=col>Name</th><th scope=col>Location</th><th scope=col>Year</th><th scope=col>Kilometers_Driven</th><th scope=col>Owner_Type</th><th scope=col>Mileage</th><th scope=col>Engine</th><th scope=col>Power</th><th scope=col>Seats</th><th scope=col>New_Price</th><th scope=col>Price</th><th scope=col>Fuel_TypeDiesel</th><th scope=col>Fuel_TypePetrol</th><th scope=col>TransmissionAutomatic</th><th scope=col>TransmissionManual</th><th scope=col>Age</th><th scope=col>Annual_Value_Loss</th></tr>\n",
       "\t<tr><th></th><th scope=col>&lt;int&gt;</th><th scope=col>&lt;chr&gt;</th><th scope=col>&lt;chr&gt;</th><th scope=col>&lt;int&gt;</th><th scope=col>&lt;int&gt;</th><th scope=col>&lt;chr&gt;</th><th scope=col>&lt;dbl&gt;</th><th scope=col>&lt;dbl&gt;</th><th scope=col>&lt;dbl&gt;</th><th scope=col>&lt;dbl&gt;</th><th scope=col>&lt;dbl&gt;</th><th scope=col>&lt;dbl&gt;</th><th scope=col>&lt;dbl&gt;</th><th scope=col>&lt;dbl&gt;</th><th scope=col>&lt;dbl&gt;</th><th scope=col>&lt;dbl&gt;</th><th scope=col>&lt;dbl&gt;</th><th scope=col>&lt;dbl&gt;</th></tr>\n",
       "</thead>\n",
       "<tbody>\n",
       "\t<tr><th scope=row>1</th><td>1713</td><td>Tata Nano Lx        </td><td>Pune  </td><td>2011</td><td>65000</td><td>Second</td><td>26.0</td><td> 624</td><td>35</td><td>4</td><td>20.91683</td><td>0.44</td><td>0</td><td>1</td><td>0</td><td>1</td><td>13</td><td>1.5751411</td></tr>\n",
       "\t<tr><th scope=row>2</th><td>2847</td><td>Hyundai Getz GLS    </td><td>Pune  </td><td>2005</td><td>86000</td><td>Second</td><td>15.3</td><td>1341</td><td>83</td><td>5</td><td>20.91683</td><td>0.45</td><td>0</td><td>1</td><td>0</td><td>1</td><td>19</td><td>1.0772018</td></tr>\n",
       "\t<tr><th scope=row>3</th><td>1628</td><td>Maruti 800 Std BSIII</td><td>Jaipur</td><td>2004</td><td>12000</td><td>Second</td><td>16.1</td><td> 796</td><td>37</td><td>4</td><td>20.91683</td><td>0.45</td><td>0</td><td>1</td><td>0</td><td>1</td><td>20</td><td>1.0233417</td></tr>\n",
       "\t<tr><th scope=row>4</th><td>3138</td><td>Maruti Zen LXI      </td><td>Jaipur</td><td>1998</td><td>95150</td><td>Third </td><td>17.3</td><td> 993</td><td>60</td><td>5</td><td>20.91683</td><td>0.45</td><td>0</td><td>1</td><td>0</td><td>1</td><td>26</td><td>0.7871859</td></tr>\n",
       "\t<tr><th scope=row>5</th><td>2605</td><td>Tata Nano Cx        </td><td>Jaipur</td><td>2010</td><td>57000</td><td>First </td><td>26.0</td><td> 624</td><td>35</td><td>4</td><td>20.91683</td><td>0.50</td><td>0</td><td>1</td><td>0</td><td>1</td><td>14</td><td>1.4583453</td></tr>\n",
       "\t<tr><th scope=row>6</th><td>3228</td><td>Maruti 800 Std      </td><td>Pune  </td><td>2003</td><td>52000</td><td>First </td><td>16.1</td><td> 796</td><td>37</td><td>4</td><td>20.91683</td><td>0.50</td><td>0</td><td>1</td><td>0</td><td>1</td><td>21</td><td>0.9722302</td></tr>\n",
       "</tbody>\n",
       "</table>\n"
      ],
      "text/latex": [
       "A data.frame: 6 × 18\n",
       "\\begin{tabular}{r|llllllllllllllllll}\n",
       "  & X & Name & Location & Year & Kilometers\\_Driven & Owner\\_Type & Mileage & Engine & Power & Seats & New\\_Price & Price & Fuel\\_TypeDiesel & Fuel\\_TypePetrol & TransmissionAutomatic & TransmissionManual & Age & Annual\\_Value\\_Loss\\\\\n",
       "  & <int> & <chr> & <chr> & <int> & <int> & <chr> & <dbl> & <dbl> & <dbl> & <dbl> & <dbl> & <dbl> & <dbl> & <dbl> & <dbl> & <dbl> & <dbl> & <dbl>\\\\\n",
       "\\hline\n",
       "\t1 & 1713 & Tata Nano Lx         & Pune   & 2011 & 65000 & Second & 26.0 &  624 & 35 & 4 & 20.91683 & 0.44 & 0 & 1 & 0 & 1 & 13 & 1.5751411\\\\\n",
       "\t2 & 2847 & Hyundai Getz GLS     & Pune   & 2005 & 86000 & Second & 15.3 & 1341 & 83 & 5 & 20.91683 & 0.45 & 0 & 1 & 0 & 1 & 19 & 1.0772018\\\\\n",
       "\t3 & 1628 & Maruti 800 Std BSIII & Jaipur & 2004 & 12000 & Second & 16.1 &  796 & 37 & 4 & 20.91683 & 0.45 & 0 & 1 & 0 & 1 & 20 & 1.0233417\\\\\n",
       "\t4 & 3138 & Maruti Zen LXI       & Jaipur & 1998 & 95150 & Third  & 17.3 &  993 & 60 & 5 & 20.91683 & 0.45 & 0 & 1 & 0 & 1 & 26 & 0.7871859\\\\\n",
       "\t5 & 2605 & Tata Nano Cx         & Jaipur & 2010 & 57000 & First  & 26.0 &  624 & 35 & 4 & 20.91683 & 0.50 & 0 & 1 & 0 & 1 & 14 & 1.4583453\\\\\n",
       "\t6 & 3228 & Maruti 800 Std       & Pune   & 2003 & 52000 & First  & 16.1 &  796 & 37 & 4 & 20.91683 & 0.50 & 0 & 1 & 0 & 1 & 21 & 0.9722302\\\\\n",
       "\\end{tabular}\n"
      ],
      "text/markdown": [
       "\n",
       "A data.frame: 6 × 18\n",
       "\n",
       "| <!--/--> | X &lt;int&gt; | Name &lt;chr&gt; | Location &lt;chr&gt; | Year &lt;int&gt; | Kilometers_Driven &lt;int&gt; | Owner_Type &lt;chr&gt; | Mileage &lt;dbl&gt; | Engine &lt;dbl&gt; | Power &lt;dbl&gt; | Seats &lt;dbl&gt; | New_Price &lt;dbl&gt; | Price &lt;dbl&gt; | Fuel_TypeDiesel &lt;dbl&gt; | Fuel_TypePetrol &lt;dbl&gt; | TransmissionAutomatic &lt;dbl&gt; | TransmissionManual &lt;dbl&gt; | Age &lt;dbl&gt; | Annual_Value_Loss &lt;dbl&gt; |\n",
       "|---|---|---|---|---|---|---|---|---|---|---|---|---|---|---|---|---|---|---|\n",
       "| 1 | 1713 | Tata Nano Lx         | Pune   | 2011 | 65000 | Second | 26.0 |  624 | 35 | 4 | 20.91683 | 0.44 | 0 | 1 | 0 | 1 | 13 | 1.5751411 |\n",
       "| 2 | 2847 | Hyundai Getz GLS     | Pune   | 2005 | 86000 | Second | 15.3 | 1341 | 83 | 5 | 20.91683 | 0.45 | 0 | 1 | 0 | 1 | 19 | 1.0772018 |\n",
       "| 3 | 1628 | Maruti 800 Std BSIII | Jaipur | 2004 | 12000 | Second | 16.1 |  796 | 37 | 4 | 20.91683 | 0.45 | 0 | 1 | 0 | 1 | 20 | 1.0233417 |\n",
       "| 4 | 3138 | Maruti Zen LXI       | Jaipur | 1998 | 95150 | Third  | 17.3 |  993 | 60 | 5 | 20.91683 | 0.45 | 0 | 1 | 0 | 1 | 26 | 0.7871859 |\n",
       "| 5 | 2605 | Tata Nano Cx         | Jaipur | 2010 | 57000 | First  | 26.0 |  624 | 35 | 4 | 20.91683 | 0.50 | 0 | 1 | 0 | 1 | 14 | 1.4583453 |\n",
       "| 6 | 3228 | Maruti 800 Std       | Pune   | 2003 | 52000 | First  | 16.1 |  796 | 37 | 4 | 20.91683 | 0.50 | 0 | 1 | 0 | 1 | 21 | 0.9722302 |\n",
       "\n"
      ],
      "text/plain": [
       "  X    Name                 Location Year Kilometers_Driven Owner_Type Mileage\n",
       "1 1713 Tata Nano Lx         Pune     2011 65000             Second     26.0   \n",
       "2 2847 Hyundai Getz GLS     Pune     2005 86000             Second     15.3   \n",
       "3 1628 Maruti 800 Std BSIII Jaipur   2004 12000             Second     16.1   \n",
       "4 3138 Maruti Zen LXI       Jaipur   1998 95150             Third      17.3   \n",
       "5 2605 Tata Nano Cx         Jaipur   2010 57000             First      26.0   \n",
       "6 3228 Maruti 800 Std       Pune     2003 52000             First      16.1   \n",
       "  Engine Power Seats New_Price Price Fuel_TypeDiesel Fuel_TypePetrol\n",
       "1  624   35    4     20.91683  0.44  0               1              \n",
       "2 1341   83    5     20.91683  0.45  0               1              \n",
       "3  796   37    4     20.91683  0.45  0               1              \n",
       "4  993   60    5     20.91683  0.45  0               1              \n",
       "5  624   35    4     20.91683  0.50  0               1              \n",
       "6  796   37    4     20.91683  0.50  0               1              \n",
       "  TransmissionAutomatic TransmissionManual Age Annual_Value_Loss\n",
       "1 0                     1                  13  1.5751411        \n",
       "2 0                     1                  19  1.0772018        \n",
       "3 0                     1                  20  1.0233417        \n",
       "4 0                     1                  26  0.7871859        \n",
       "5 0                     1                  14  1.4583453        \n",
       "6 0                     1                  21  0.9722302        "
      ]
     },
     "metadata": {},
     "output_type": "display_data"
    }
   ],
   "source": [
    "df %>% arrange(Price, desc(Year)) %>% head"
   ]
  },
  {
   "cell_type": "markdown",
   "id": "c6cf4d06-9df2-407b-b8d2-5ad2f4d18138",
   "metadata": {},
   "source": [
    "## summarize\n",
    "\n",
    "This will summarize the data based on Location to show the number of rows, average price, median age, and number of diesel vehicles per location."
   ]
  },
  {
   "cell_type": "code",
   "execution_count": 20,
   "id": "4bf99921-a04f-4231-8db3-9ef64a8eddf6",
   "metadata": {},
   "outputs": [
    {
     "data": {
      "text/html": [
       "<table class=\"dataframe\">\n",
       "<caption>A tibble: 11 × 5</caption>\n",
       "<thead>\n",
       "\t<tr><th scope=col>Location</th><th scope=col>N</th><th scope=col>Average_Price</th><th scope=col>Median_Age</th><th scope=col>Num_Diesel</th></tr>\n",
       "\t<tr><th scope=col>&lt;chr&gt;</th><th scope=col>&lt;int&gt;</th><th scope=col>&lt;dbl&gt;</th><th scope=col>&lt;dbl&gt;</th><th scope=col>&lt;dbl&gt;</th></tr>\n",
       "</thead>\n",
       "<tbody>\n",
       "\t<tr><td>Ahmedabad </td><td>217</td><td> 8.593134</td><td>10</td><td>137</td></tr>\n",
       "\t<tr><td>Bangalore </td><td>347</td><td>13.638040</td><td>11</td><td>213</td></tr>\n",
       "\t<tr><td>Chennai   </td><td>473</td><td> 7.968118</td><td>12</td><td>285</td></tr>\n",
       "\t<tr><td>Coimbatore</td><td>629</td><td>15.140350</td><td> 8</td><td>353</td></tr>\n",
       "\t<tr><td>Delhi     </td><td>535</td><td> 9.905514</td><td>10</td><td>301</td></tr>\n",
       "\t<tr><td>Hyderabad </td><td>707</td><td>10.014668</td><td>11</td><td>495</td></tr>\n",
       "\t<tr><td>Jaipur    </td><td>400</td><td> 5.949225</td><td>11</td><td>227</td></tr>\n",
       "\t<tr><td>Kochi     </td><td>637</td><td>11.323940</td><td> 8</td><td>303</td></tr>\n",
       "\t<tr><td>Kolkata   </td><td>521</td><td> 5.739885</td><td>11</td><td>252</td></tr>\n",
       "\t<tr><td>Mumbai    </td><td>757</td><td> 9.566592</td><td>10</td><td>306</td></tr>\n",
       "\t<tr><td>Pune      </td><td>581</td><td> 6.992324</td><td>11</td><td>278</td></tr>\n",
       "</tbody>\n",
       "</table>\n"
      ],
      "text/latex": [
       "A tibble: 11 × 5\n",
       "\\begin{tabular}{lllll}\n",
       " Location & N & Average\\_Price & Median\\_Age & Num\\_Diesel\\\\\n",
       " <chr> & <int> & <dbl> & <dbl> & <dbl>\\\\\n",
       "\\hline\n",
       "\t Ahmedabad  & 217 &  8.593134 & 10 & 137\\\\\n",
       "\t Bangalore  & 347 & 13.638040 & 11 & 213\\\\\n",
       "\t Chennai    & 473 &  7.968118 & 12 & 285\\\\\n",
       "\t Coimbatore & 629 & 15.140350 &  8 & 353\\\\\n",
       "\t Delhi      & 535 &  9.905514 & 10 & 301\\\\\n",
       "\t Hyderabad  & 707 & 10.014668 & 11 & 495\\\\\n",
       "\t Jaipur     & 400 &  5.949225 & 11 & 227\\\\\n",
       "\t Kochi      & 637 & 11.323940 &  8 & 303\\\\\n",
       "\t Kolkata    & 521 &  5.739885 & 11 & 252\\\\\n",
       "\t Mumbai     & 757 &  9.566592 & 10 & 306\\\\\n",
       "\t Pune       & 581 &  6.992324 & 11 & 278\\\\\n",
       "\\end{tabular}\n"
      ],
      "text/markdown": [
       "\n",
       "A tibble: 11 × 5\n",
       "\n",
       "| Location &lt;chr&gt; | N &lt;int&gt; | Average_Price &lt;dbl&gt; | Median_Age &lt;dbl&gt; | Num_Diesel &lt;dbl&gt; |\n",
       "|---|---|---|---|---|\n",
       "| Ahmedabad  | 217 |  8.593134 | 10 | 137 |\n",
       "| Bangalore  | 347 | 13.638040 | 11 | 213 |\n",
       "| Chennai    | 473 |  7.968118 | 12 | 285 |\n",
       "| Coimbatore | 629 | 15.140350 |  8 | 353 |\n",
       "| Delhi      | 535 |  9.905514 | 10 | 301 |\n",
       "| Hyderabad  | 707 | 10.014668 | 11 | 495 |\n",
       "| Jaipur     | 400 |  5.949225 | 11 | 227 |\n",
       "| Kochi      | 637 | 11.323940 |  8 | 303 |\n",
       "| Kolkata    | 521 |  5.739885 | 11 | 252 |\n",
       "| Mumbai     | 757 |  9.566592 | 10 | 306 |\n",
       "| Pune       | 581 |  6.992324 | 11 | 278 |\n",
       "\n"
      ],
      "text/plain": [
       "   Location   N   Average_Price Median_Age Num_Diesel\n",
       "1  Ahmedabad  217  8.593134     10         137       \n",
       "2  Bangalore  347 13.638040     11         213       \n",
       "3  Chennai    473  7.968118     12         285       \n",
       "4  Coimbatore 629 15.140350      8         353       \n",
       "5  Delhi      535  9.905514     10         301       \n",
       "6  Hyderabad  707 10.014668     11         495       \n",
       "7  Jaipur     400  5.949225     11         227       \n",
       "8  Kochi      637 11.323940      8         303       \n",
       "9  Kolkata    521  5.739885     11         252       \n",
       "10 Mumbai     757  9.566592     10         306       \n",
       "11 Pune       581  6.992324     11         278       "
      ]
     },
     "metadata": {},
     "output_type": "display_data"
    }
   ],
   "source": [
    "df %>%\n",
    "    group_by(Location) %>%\n",
    "    summarize(\n",
    "        N = n(),\n",
    "        Average_Price = mean(Price),\n",
    "        Median_Age = median(Age),\n",
    "        Num_Diesel = sum(Fuel_TypeDiesel)\n",
    "    )"
   ]
  }
 ],
 "metadata": {
  "kernelspec": {
   "display_name": "R",
   "language": "R",
   "name": "ir"
  },
  "language_info": {
   "codemirror_mode": "r",
   "file_extension": ".r",
   "mimetype": "text/x-r-source",
   "name": "R",
   "pygments_lexer": "r",
   "version": "4.4.1"
  }
 },
 "nbformat": 4,
 "nbformat_minor": 5
}
